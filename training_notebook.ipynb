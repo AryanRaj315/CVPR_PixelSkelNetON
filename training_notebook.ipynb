{
 "cells": [
  {
   "cell_type": "code",
   "execution_count": 1,
   "metadata": {},
   "outputs": [
    {
     "name": "stdout",
     "output_type": "stream",
     "text": [
      "Starting epoch: 0 | phase: train | ⏰: 23:46:56\n"
     ]
    },
    {
     "data": {
      "application/vnd.jupyter.widget-view+json": {
       "model_id": "3456f0499d3b45c1967c443fe5cfdc72",
       "version_major": 2,
       "version_minor": 0
      },
      "text/plain": [
       "HBox(children=(FloatProgress(value=0.0, max=127.0), HTML(value='')))"
      ]
     },
     "metadata": {},
     "output_type": "display_data"
    },
    {
     "name": "stdout",
     "output_type": "stream",
     "text": [
      "\n",
      "Loss: 2.7636 | IoU: 0.1203 | dice: 0.1937 | f2_score: 0.2621 | accuracy: 0.1211\n",
      "Starting epoch: 0 | phase: val | ⏰: 23:48:29\n"
     ]
    },
    {
     "data": {
      "application/vnd.jupyter.widget-view+json": {
       "model_id": "62cdea20f200476c957dc1a2d25fbdd9",
       "version_major": 2,
       "version_minor": 0
      },
      "text/plain": [
       "HBox(children=(FloatProgress(value=0.0, max=254.0), HTML(value='')))"
      ]
     },
     "metadata": {},
     "output_type": "display_data"
    },
    {
     "name": "stdout",
     "output_type": "stream",
     "text": [
      "\n",
      "Loss: 1.5874 | IoU: 0.9860 | dice: 0.1720 | f2_score: 0.1836 | accuracy: 0.3661\n",
      "* New optimal found according to dice, saving state *\n",
      "* New optimal found according to accuracy, saving state *\n",
      "\n",
      "Starting epoch: 1 | phase: train | ⏰: 23:49:41\n"
     ]
    },
    {
     "data": {
      "application/vnd.jupyter.widget-view+json": {
       "model_id": "9f191f78f1834b3185a69406e5e63faa",
       "version_major": 2,
       "version_minor": 0
      },
      "text/plain": [
       "HBox(children=(FloatProgress(value=0.0, max=127.0), HTML(value='')))"
      ]
     },
     "metadata": {},
     "output_type": "display_data"
    },
    {
     "name": "stdout",
     "output_type": "stream",
     "text": [
      "\n",
      "Loss: 1.9181 | IoU: 0.2147 | dice: 0.3252 | f2_score: 0.3873 | accuracy: 0.3481\n",
      "Starting epoch: 1 | phase: val | ⏰: 23:51:09\n"
     ]
    },
    {
     "data": {
      "application/vnd.jupyter.widget-view+json": {
       "model_id": "47d96eb27efe4d5e9fda320157b6b620",
       "version_major": 2,
       "version_minor": 0
      },
      "text/plain": [
       "HBox(children=(FloatProgress(value=0.0, max=254.0), HTML(value='')))"
      ]
     },
     "metadata": {},
     "output_type": "display_data"
    },
    {
     "name": "stdout",
     "output_type": "stream",
     "text": [
      "\n",
      "Loss: 1.5122 | IoU: 0.9874 | dice: 0.1835 | f2_score: 0.1963 | accuracy: 0.4055\n",
      "* New optimal found according to dice, saving state *\n",
      "* New optimal found according to accuracy, saving state *\n",
      "\n",
      "Starting epoch: 2 | phase: train | ⏰: 23:52:21\n"
     ]
    },
    {
     "data": {
      "application/vnd.jupyter.widget-view+json": {
       "model_id": "bb6428c30874429490c9d562b1cdaa87",
       "version_major": 2,
       "version_minor": 0
      },
      "text/plain": [
       "HBox(children=(FloatProgress(value=0.0, max=127.0), HTML(value='')))"
      ]
     },
     "metadata": {},
     "output_type": "display_data"
    },
    {
     "name": "stdout",
     "output_type": "stream",
     "text": [
      "\n",
      "Loss: 1.7253 | IoU: 0.2364 | dice: 0.3560 | f2_score: 0.4133 | accuracy: 0.4180\n",
      "Starting epoch: 2 | phase: val | ⏰: 23:53:50\n"
     ]
    },
    {
     "data": {
      "application/vnd.jupyter.widget-view+json": {
       "model_id": "4f2980690b3e4b7b9982b29759297252",
       "version_major": 2,
       "version_minor": 0
      },
      "text/plain": [
       "HBox(children=(FloatProgress(value=0.0, max=254.0), HTML(value='')))"
      ]
     },
     "metadata": {},
     "output_type": "display_data"
    },
    {
     "name": "stdout",
     "output_type": "stream",
     "text": [
      "\n",
      "Loss: 1.2825 | IoU: 0.9907 | dice: 0.1699 | f2_score: 0.1609 | accuracy: 0.6220\n",
      "* New optimal found according to accuracy, saving state *\n",
      "\n",
      "Starting epoch: 3 | phase: train | ⏰: 23:54:42\n"
     ]
    },
    {
     "data": {
      "application/vnd.jupyter.widget-view+json": {
       "model_id": "4b29fd85d6794531afceaaa18ec76729",
       "version_major": 2,
       "version_minor": 0
      },
      "text/plain": [
       "HBox(children=(FloatProgress(value=0.0, max=127.0), HTML(value='')))"
      ]
     },
     "metadata": {},
     "output_type": "display_data"
    },
    {
     "name": "stdout",
     "output_type": "stream",
     "text": [
      "\n",
      "Loss: 1.5817 | IoU: 0.2656 | dice: 0.3940 | f2_score: 0.4515 | accuracy: 0.4436\n",
      "Starting epoch: 3 | phase: val | ⏰: 23:56:11\n"
     ]
    },
    {
     "data": {
      "application/vnd.jupyter.widget-view+json": {
       "model_id": "e06947616f9c4f1a8a35391745e8ca67",
       "version_major": 2,
       "version_minor": 0
      },
      "text/plain": [
       "HBox(children=(FloatProgress(value=0.0, max=254.0), HTML(value='')))"
      ]
     },
     "metadata": {},
     "output_type": "display_data"
    },
    {
     "name": "stdout",
     "output_type": "stream",
     "text": [
      "\n",
      "Loss: 1.4834 | IoU: 0.9913 | dice: 0.1866 | f2_score: 0.1716 | accuracy: 0.5354\n",
      "* New optimal found according to dice, saving state *\n",
      "\n",
      "Starting epoch: 4 | phase: train | ⏰: 23:57:02\n"
     ]
    },
    {
     "data": {
      "application/vnd.jupyter.widget-view+json": {
       "model_id": "e897811553d141c7b8f92d5125129a3b",
       "version_major": 2,
       "version_minor": 0
      },
      "text/plain": [
       "HBox(children=(FloatProgress(value=0.0, max=127.0), HTML(value='')))"
      ]
     },
     "metadata": {},
     "output_type": "display_data"
    },
    {
     "name": "stdout",
     "output_type": "stream",
     "text": [
      "\n",
      "Loss: 1.5303 | IoU: 0.2830 | dice: 0.4137 | f2_score: 0.4722 | accuracy: 0.4629\n",
      "Starting epoch: 4 | phase: val | ⏰: 23:58:32\n"
     ]
    },
    {
     "data": {
      "application/vnd.jupyter.widget-view+json": {
       "model_id": "7c11e833dabf4565989237065d7bd703",
       "version_major": 2,
       "version_minor": 0
      },
      "text/plain": [
       "HBox(children=(FloatProgress(value=0.0, max=254.0), HTML(value='')))"
      ]
     },
     "metadata": {},
     "output_type": "display_data"
    },
    {
     "name": "stdout",
     "output_type": "stream",
     "text": [
      "\n",
      "Loss: 1.4075 | IoU: 0.9821 | dice: 0.2887 | f2_score: 0.3191 | accuracy: 0.6063\n",
      "* New optimal found according to dice, saving state *\n",
      "\n",
      "Starting epoch: 5 | phase: train | ⏰: 23:59:23\n"
     ]
    },
    {
     "data": {
      "application/vnd.jupyter.widget-view+json": {
       "model_id": "e178c2b74d4c4124acca1294ac9a35b8",
       "version_major": 2,
       "version_minor": 0
      },
      "text/plain": [
       "HBox(children=(FloatProgress(value=0.0, max=127.0), HTML(value='')))"
      ]
     },
     "metadata": {},
     "output_type": "display_data"
    },
    {
     "name": "stdout",
     "output_type": "stream",
     "text": [
      "\n",
      "Loss: 1.4414 | IoU: 0.2721 | dice: 0.4069 | f2_score: 0.4780 | accuracy: 0.4921\n",
      "Starting epoch: 5 | phase: val | ⏰: 00:00:51\n"
     ]
    },
    {
     "data": {
      "application/vnd.jupyter.widget-view+json": {
       "model_id": "0ff072d333594273b68c55a2ece2274a",
       "version_major": 2,
       "version_minor": 0
      },
      "text/plain": [
       "HBox(children=(FloatProgress(value=0.0, max=254.0), HTML(value='')))"
      ]
     },
     "metadata": {},
     "output_type": "display_data"
    },
    {
     "name": "stdout",
     "output_type": "stream",
     "text": [
      "\n",
      "Loss: 1.2307 | IoU: 0.9841 | dice: 0.2780 | f2_score: 0.3111 | accuracy: 0.6654\n",
      "* New optimal found according to accuracy, saving state *\n",
      "\n",
      "Starting epoch: 6 | phase: train | ⏰: 00:01:43\n"
     ]
    },
    {
     "data": {
      "application/vnd.jupyter.widget-view+json": {
       "model_id": "c8d46a0a66c64a9cb86647d1512862b5",
       "version_major": 2,
       "version_minor": 0
      },
      "text/plain": [
       "HBox(children=(FloatProgress(value=0.0, max=127.0), HTML(value='')))"
      ]
     },
     "metadata": {},
     "output_type": "display_data"
    },
    {
     "name": "stdout",
     "output_type": "stream",
     "text": [
      "\n",
      "Loss: 1.4460 | IoU: 0.3017 | dice: 0.4382 | f2_score: 0.4890 | accuracy: 0.4721\n",
      "Starting epoch: 6 | phase: val | ⏰: 00:03:11\n"
     ]
    },
    {
     "data": {
      "application/vnd.jupyter.widget-view+json": {
       "model_id": "a3da612c222946b5a4ea4ca921a62874",
       "version_major": 2,
       "version_minor": 0
      },
      "text/plain": [
       "HBox(children=(FloatProgress(value=0.0, max=254.0), HTML(value='')))"
      ]
     },
     "metadata": {},
     "output_type": "display_data"
    },
    {
     "name": "stdout",
     "output_type": "stream",
     "text": [
      "\n",
      "Loss: 1.6589 | IoU: 0.9845 | dice: 0.3004 | f2_score: 0.3362 | accuracy: 0.5472\n",
      "* New optimal found according to dice, saving state *\n",
      "\n",
      "Starting epoch: 7 | phase: train | ⏰: 00:04:03\n"
     ]
    },
    {
     "data": {
      "application/vnd.jupyter.widget-view+json": {
       "model_id": "276e4727d1e442ebb556acc3e120c944",
       "version_major": 2,
       "version_minor": 0
      },
      "text/plain": [
       "HBox(children=(FloatProgress(value=0.0, max=127.0), HTML(value='')))"
      ]
     },
     "metadata": {},
     "output_type": "display_data"
    },
    {
     "name": "stdout",
     "output_type": "stream",
     "text": [
      "\n",
      "Loss: 1.4133 | IoU: 0.3165 | dice: 0.4576 | f2_score: 0.5123 | accuracy: 0.4751\n",
      "Starting epoch: 7 | phase: val | ⏰: 00:05:32\n"
     ]
    },
    {
     "data": {
      "application/vnd.jupyter.widget-view+json": {
       "model_id": "7dcb4a702261498983c67e6320cf5658",
       "version_major": 2,
       "version_minor": 0
      },
      "text/plain": [
       "HBox(children=(FloatProgress(value=0.0, max=254.0), HTML(value='')))"
      ]
     },
     "metadata": {},
     "output_type": "display_data"
    },
    {
     "name": "stdout",
     "output_type": "stream",
     "text": [
      "\n",
      "Loss: 3.5535 | IoU: 0.9834 | dice: 0.3284 | f2_score: 0.3727 | accuracy: 0.5984\n",
      "* New optimal found according to dice, saving state *\n",
      "\n",
      "Starting epoch: 8 | phase: train | ⏰: 00:06:23\n"
     ]
    },
    {
     "data": {
      "application/vnd.jupyter.widget-view+json": {
       "model_id": "2fb4e8275220418f9c96474e6c7db5e6",
       "version_major": 2,
       "version_minor": 0
      },
      "text/plain": [
       "HBox(children=(FloatProgress(value=0.0, max=127.0), HTML(value='')))"
      ]
     },
     "metadata": {},
     "output_type": "display_data"
    },
    {
     "name": "stdout",
     "output_type": "stream",
     "text": [
      "\n",
      "Loss: 1.3961 | IoU: 0.3214 | dice: 0.4683 | f2_score: 0.5162 | accuracy: 0.4875\n",
      "Starting epoch: 8 | phase: val | ⏰: 00:07:52\n"
     ]
    },
    {
     "data": {
      "application/vnd.jupyter.widget-view+json": {
       "model_id": "d3327713fec14718bcbcda41bae623b1",
       "version_major": 2,
       "version_minor": 0
      },
      "text/plain": [
       "HBox(children=(FloatProgress(value=0.0, max=254.0), HTML(value='')))"
      ]
     },
     "metadata": {},
     "output_type": "display_data"
    },
    {
     "name": "stdout",
     "output_type": "stream",
     "text": [
      "\n",
      "Loss: 1.1816 | IoU: 0.9808 | dice: 0.3465 | f2_score: 0.3920 | accuracy: 0.6260\n",
      "* New optimal found according to dice, saving state *\n",
      "\n",
      "Starting epoch: 9 | phase: train | ⏰: 00:08:43\n"
     ]
    },
    {
     "data": {
      "application/vnd.jupyter.widget-view+json": {
       "model_id": "4adf605128154267951aed0e60127688",
       "version_major": 2,
       "version_minor": 0
      },
      "text/plain": [
       "HBox(children=(FloatProgress(value=0.0, max=127.0), HTML(value='')))"
      ]
     },
     "metadata": {},
     "output_type": "display_data"
    },
    {
     "name": "stdout",
     "output_type": "stream",
     "text": [
      "\n",
      "Loss: 1.5980 | IoU: 0.3476 | dice: 0.5015 | f2_score: 0.5507 | accuracy: 0.4416\n",
      "Starting epoch: 9 | phase: val | ⏰: 00:10:11\n"
     ]
    },
    {
     "data": {
      "application/vnd.jupyter.widget-view+json": {
       "model_id": "c21df11b84dd45168ee145fe7c51c53f",
       "version_major": 2,
       "version_minor": 0
      },
      "text/plain": [
       "HBox(children=(FloatProgress(value=0.0, max=254.0), HTML(value='')))"
      ]
     },
     "metadata": {},
     "output_type": "display_data"
    },
    {
     "name": "stdout",
     "output_type": "stream",
     "text": [
      "\n",
      "Loss: 1.2833 | IoU: 0.9827 | dice: 0.3456 | f2_score: 0.3928 | accuracy: 0.5236\n",
      "\n",
      "Starting epoch: 10 | phase: train | ⏰: 00:10:42\n"
     ]
    },
    {
     "data": {
      "application/vnd.jupyter.widget-view+json": {
       "model_id": "8f219ad6e51842b2bb6f73b30aa26967",
       "version_major": 2,
       "version_minor": 0
      },
      "text/plain": [
       "HBox(children=(FloatProgress(value=0.0, max=127.0), HTML(value='')))"
      ]
     },
     "metadata": {},
     "output_type": "display_data"
    },
    {
     "name": "stdout",
     "output_type": "stream",
     "text": [
      "\n",
      "Loss: 1.4331 | IoU: 0.3056 | dice: 0.4434 | f2_score: 0.4888 | accuracy: 0.4882\n",
      "Starting epoch: 10 | phase: val | ⏰: 00:12:10\n"
     ]
    },
    {
     "data": {
      "application/vnd.jupyter.widget-view+json": {
       "model_id": "4e766c9fa71846ea961555f19c21a4d9",
       "version_major": 2,
       "version_minor": 0
      },
      "text/plain": [
       "HBox(children=(FloatProgress(value=0.0, max=254.0), HTML(value='')))"
      ]
     },
     "metadata": {},
     "output_type": "display_data"
    },
    {
     "name": "stdout",
     "output_type": "stream",
     "text": [
      "\n",
      "Loss: 2.1089 | IoU: 0.9824 | dice: 0.3329 | f2_score: 0.3763 | accuracy: 0.5433\n",
      "\n",
      "Starting epoch: 11 | phase: train | ⏰: 00:12:41\n"
     ]
    },
    {
     "data": {
      "application/vnd.jupyter.widget-view+json": {
       "model_id": "b92cd2a7138a4341a84ac22bcf313990",
       "version_major": 2,
       "version_minor": 0
      },
      "text/plain": [
       "HBox(children=(FloatProgress(value=0.0, max=127.0), HTML(value='')))"
      ]
     },
     "metadata": {},
     "output_type": "display_data"
    },
    {
     "name": "stdout",
     "output_type": "stream",
     "text": [
      "\n",
      "Loss: 1.4934 | IoU: 0.3073 | dice: 0.4442 | f2_score: 0.4781 | accuracy: 0.4341\n",
      "Starting epoch: 11 | phase: val | ⏰: 00:14:10\n"
     ]
    },
    {
     "data": {
      "application/vnd.jupyter.widget-view+json": {
       "model_id": "6e407c4c7879466196abafd038be7d38",
       "version_major": 2,
       "version_minor": 0
      },
      "text/plain": [
       "HBox(children=(FloatProgress(value=0.0, max=254.0), HTML(value='')))"
      ]
     },
     "metadata": {},
     "output_type": "display_data"
    },
    {
     "name": "stdout",
     "output_type": "stream",
     "text": [
      "\n",
      "Loss: 5.6544 | IoU: 0.9829 | dice: 0.3279 | f2_score: 0.3706 | accuracy: 0.4921\n",
      "\n",
      "Starting epoch: 12 | phase: train | ⏰: 00:14:40\n"
     ]
    },
    {
     "data": {
      "application/vnd.jupyter.widget-view+json": {
       "model_id": "40ae30dab83841a28a90e56dd9b33d49",
       "version_major": 2,
       "version_minor": 0
      },
      "text/plain": [
       "HBox(children=(FloatProgress(value=0.0, max=127.0), HTML(value='')))"
      ]
     },
     "metadata": {},
     "output_type": "display_data"
    },
    {
     "name": "stdout",
     "output_type": "stream",
     "text": [
      "\n",
      "Loss: 1.3131 | IoU: 0.3534 | dice: 0.5043 | f2_score: 0.5481 | accuracy: 0.4711\n",
      "Starting epoch: 12 | phase: val | ⏰: 00:16:08\n"
     ]
    },
    {
     "data": {
      "application/vnd.jupyter.widget-view+json": {
       "model_id": "18f64a05d0494551863e2df97e61318f",
       "version_major": 2,
       "version_minor": 0
      },
      "text/plain": [
       "HBox(children=(FloatProgress(value=0.0, max=254.0), HTML(value='')))"
      ]
     },
     "metadata": {},
     "output_type": "display_data"
    },
    {
     "name": "stdout",
     "output_type": "stream",
     "text": [
      "\n",
      "Loss: 1.0895 | IoU: 0.9836 | dice: 0.3675 | f2_score: 0.4198 | accuracy: 0.5591\n",
      "* New optimal found according to dice, saving state *\n",
      "\n",
      "Starting epoch: 13 | phase: train | ⏰: 00:17:00\n"
     ]
    },
    {
     "data": {
      "application/vnd.jupyter.widget-view+json": {
       "model_id": "c4f80ca56fa2491193e4e9c5a88391ef",
       "version_major": 2,
       "version_minor": 0
      },
      "text/plain": [
       "HBox(children=(FloatProgress(value=0.0, max=127.0), HTML(value='')))"
      ]
     },
     "metadata": {},
     "output_type": "display_data"
    },
    {
     "name": "stdout",
     "output_type": "stream",
     "text": [
      "\n",
      "Loss: 1.2773 | IoU: 0.3766 | dice: 0.5294 | f2_score: 0.5703 | accuracy: 0.4938\n",
      "Starting epoch: 13 | phase: val | ⏰: 00:18:28\n"
     ]
    },
    {
     "data": {
      "application/vnd.jupyter.widget-view+json": {
       "model_id": "e23160b7de5f44efb4a8f91c09e117e0",
       "version_major": 2,
       "version_minor": 0
      },
      "text/plain": [
       "HBox(children=(FloatProgress(value=0.0, max=254.0), HTML(value='')))"
      ]
     },
     "metadata": {},
     "output_type": "display_data"
    },
    {
     "name": "stdout",
     "output_type": "stream",
     "text": [
      "\n",
      "Loss: 1.0202 | IoU: 0.9808 | dice: 0.3870 | f2_score: 0.4406 | accuracy: 0.5354\n",
      "* New optimal found according to dice, saving state *\n",
      "\n",
      "Starting epoch: 14 | phase: train | ⏰: 00:19:19\n"
     ]
    },
    {
     "data": {
      "application/vnd.jupyter.widget-view+json": {
       "model_id": "9c56c03600544efb90fb556e92a9b3a5",
       "version_major": 2,
       "version_minor": 0
      },
      "text/plain": [
       "HBox(children=(FloatProgress(value=0.0, max=127.0), HTML(value='')))"
      ]
     },
     "metadata": {},
     "output_type": "display_data"
    },
    {
     "name": "stdout",
     "output_type": "stream",
     "text": [
      "\n",
      "Loss: 1.2590 | IoU: 0.3555 | dice: 0.5053 | f2_score: 0.5487 | accuracy: 0.4619\n",
      "Starting epoch: 14 | phase: val | ⏰: 00:20:48\n"
     ]
    },
    {
     "data": {
      "application/vnd.jupyter.widget-view+json": {
       "model_id": "b56848f22f6c4e2283dff5d314627775",
       "version_major": 2,
       "version_minor": 0
      },
      "text/plain": [
       "HBox(children=(FloatProgress(value=0.0, max=254.0), HTML(value='')))"
      ]
     },
     "metadata": {},
     "output_type": "display_data"
    },
    {
     "name": "stdout",
     "output_type": "stream",
     "text": [
      "\n",
      "Loss: 1.6583 | IoU: 0.9817 | dice: 0.3741 | f2_score: 0.4255 | accuracy: 0.5315\n",
      "\n",
      "Starting epoch: 15 | phase: train | ⏰: 00:21:18\n"
     ]
    },
    {
     "data": {
      "application/vnd.jupyter.widget-view+json": {
       "model_id": "b410daf54822402f87fff014671c33a5",
       "version_major": 2,
       "version_minor": 0
      },
      "text/plain": [
       "HBox(children=(FloatProgress(value=0.0, max=127.0), HTML(value='')))"
      ]
     },
     "metadata": {},
     "output_type": "display_data"
    },
    {
     "name": "stdout",
     "output_type": "stream",
     "text": [
      "\n",
      "Loss: 1.2259 | IoU: 0.3626 | dice: 0.5167 | f2_score: 0.5777 | accuracy: 0.4498\n",
      "Starting epoch: 15 | phase: val | ⏰: 00:22:46\n"
     ]
    },
    {
     "data": {
      "application/vnd.jupyter.widget-view+json": {
       "model_id": "b0eb7254f9aa4c4a97ac9756b406db2f",
       "version_major": 2,
       "version_minor": 0
      },
      "text/plain": [
       "HBox(children=(FloatProgress(value=0.0, max=254.0), HTML(value='')))"
      ]
     },
     "metadata": {},
     "output_type": "display_data"
    },
    {
     "name": "stdout",
     "output_type": "stream",
     "text": [
      "\n",
      "Loss: 1.6132 | IoU: 0.9852 | dice: 0.3221 | f2_score: 0.3648 | accuracy: 0.4685\n",
      "\n",
      "Starting epoch: 16 | phase: train | ⏰: 00:23:16\n"
     ]
    },
    {
     "data": {
      "application/vnd.jupyter.widget-view+json": {
       "model_id": "e4d77fb4733d41cdabcc156ae64544e7",
       "version_major": 2,
       "version_minor": 0
      },
      "text/plain": [
       "HBox(children=(FloatProgress(value=0.0, max=127.0), HTML(value='')))"
      ]
     },
     "metadata": {},
     "output_type": "display_data"
    },
    {
     "name": "stdout",
     "output_type": "stream",
     "text": [
      "\n",
      "Loss: 1.2437 | IoU: 0.3826 | dice: 0.5398 | f2_score: 0.5859 | accuracy: 0.4055\n",
      "Starting epoch: 16 | phase: val | ⏰: 00:24:45\n"
     ]
    },
    {
     "data": {
      "application/vnd.jupyter.widget-view+json": {
       "model_id": "8e2d5c9c7b4d4953993917ff495df36c",
       "version_major": 2,
       "version_minor": 0
      },
      "text/plain": [
       "HBox(children=(FloatProgress(value=0.0, max=254.0), HTML(value='')))"
      ]
     },
     "metadata": {},
     "output_type": "display_data"
    },
    {
     "name": "stdout",
     "output_type": "stream",
     "text": [
      "\n",
      "Loss: 2.3971 | IoU: 0.9851 | dice: 0.3824 | f2_score: 0.4383 | accuracy: 0.4252\n",
      "\n",
      "Starting epoch: 17 | phase: train | ⏰: 00:25:15\n"
     ]
    },
    {
     "data": {
      "application/vnd.jupyter.widget-view+json": {
       "model_id": "265e8eba104c440b812f14111043b22c",
       "version_major": 2,
       "version_minor": 0
      },
      "text/plain": [
       "HBox(children=(FloatProgress(value=0.0, max=127.0), HTML(value='')))"
      ]
     },
     "metadata": {},
     "output_type": "display_data"
    },
    {
     "name": "stdout",
     "output_type": "stream",
     "text": [
      "\n",
      "Loss: 1.4366 | IoU: 0.3814 | dice: 0.5374 | f2_score: 0.5732 | accuracy: 0.4705\n",
      "Starting epoch: 17 | phase: val | ⏰: 00:26:43\n"
     ]
    },
    {
     "data": {
      "application/vnd.jupyter.widget-view+json": {
       "model_id": "4156a9fe5b9b41ddb964b136a5995beb",
       "version_major": 2,
       "version_minor": 0
      },
      "text/plain": [
       "HBox(children=(FloatProgress(value=0.0, max=254.0), HTML(value='')))"
      ]
     },
     "metadata": {},
     "output_type": "display_data"
    },
    {
     "name": "stdout",
     "output_type": "stream",
     "text": [
      "\n",
      "Loss: 1.2063 | IoU: 0.9815 | dice: 0.3760 | f2_score: 0.4277 | accuracy: 0.5827\n",
      "\n",
      "Starting epoch: 18 | phase: train | ⏰: 00:27:14\n"
     ]
    },
    {
     "data": {
      "application/vnd.jupyter.widget-view+json": {
       "model_id": "a661948e6a2445419bdad5c8e0f218eb",
       "version_major": 2,
       "version_minor": 0
      },
      "text/plain": [
       "HBox(children=(FloatProgress(value=0.0, max=127.0), HTML(value='')))"
      ]
     },
     "metadata": {},
     "output_type": "display_data"
    },
    {
     "name": "stdout",
     "output_type": "stream",
     "text": [
      "\n",
      "Loss: 1.4539 | IoU: 0.3768 | dice: 0.5296 | f2_score: 0.5827 | accuracy: 0.4623\n",
      "Starting epoch: 18 | phase: val | ⏰: 00:28:43\n"
     ]
    },
    {
     "data": {
      "application/vnd.jupyter.widget-view+json": {
       "model_id": "127a27a7f6dd47649219dcb6cbbb1574",
       "version_major": 2,
       "version_minor": 0
      },
      "text/plain": [
       "HBox(children=(FloatProgress(value=0.0, max=254.0), HTML(value='')))"
      ]
     },
     "metadata": {},
     "output_type": "display_data"
    },
    {
     "name": "stdout",
     "output_type": "stream",
     "text": [
      "\n",
      "Loss: 1.2502 | IoU: 0.9808 | dice: 0.3804 | f2_score: 0.4342 | accuracy: 0.4016\n",
      "Epoch    19: reducing learning rate of group 0 to 5.0000e-04.\n",
      "\n",
      "Starting epoch: 19 | phase: train | ⏰: 00:29:13\n"
     ]
    },
    {
     "data": {
      "application/vnd.jupyter.widget-view+json": {
       "model_id": "af15e8f7a33a4d63a30469feb457f844",
       "version_major": 2,
       "version_minor": 0
      },
      "text/plain": [
       "HBox(children=(FloatProgress(value=0.0, max=127.0), HTML(value='')))"
      ]
     },
     "metadata": {},
     "output_type": "display_data"
    },
    {
     "name": "stdout",
     "output_type": "stream",
     "text": [
      "\n",
      "Loss: 0.9156 | IoU: 0.4079 | dice: 0.5668 | f2_score: 0.6235 | accuracy: 0.5000\n",
      "Starting epoch: 19 | phase: val | ⏰: 00:30:42\n"
     ]
    },
    {
     "data": {
      "application/vnd.jupyter.widget-view+json": {
       "model_id": "6b15c70c548941cba0d6f8476a6b1431",
       "version_major": 2,
       "version_minor": 0
      },
      "text/plain": [
       "HBox(children=(FloatProgress(value=0.0, max=254.0), HTML(value='')))"
      ]
     },
     "metadata": {},
     "output_type": "display_data"
    },
    {
     "name": "stdout",
     "output_type": "stream",
     "text": [
      "\n",
      "Loss: 1.0096 | IoU: 0.9844 | dice: 0.3989 | f2_score: 0.4594 | accuracy: 0.5315\n",
      "* New optimal found according to dice, saving state *\n",
      "\n",
      "Starting epoch: 20 | phase: train | ⏰: 00:31:33\n"
     ]
    },
    {
     "data": {
      "application/vnd.jupyter.widget-view+json": {
       "model_id": "0232c949b0af4a81b4e41a242ad86207",
       "version_major": 2,
       "version_minor": 0
      },
      "text/plain": [
       "HBox(children=(FloatProgress(value=0.0, max=127.0), HTML(value='')))"
      ]
     },
     "metadata": {},
     "output_type": "display_data"
    },
    {
     "name": "stdout",
     "output_type": "stream",
     "text": [
      "\n",
      "Loss: 0.7321 | IoU: 0.4207 | dice: 0.5802 | f2_score: 0.6297 | accuracy: 0.5725\n",
      "Starting epoch: 20 | phase: val | ⏰: 00:33:00\n"
     ]
    },
    {
     "data": {
      "application/vnd.jupyter.widget-view+json": {
       "model_id": "1e80cc7081e543acacd9b83936a35250",
       "version_major": 2,
       "version_minor": 0
      },
      "text/plain": [
       "HBox(children=(FloatProgress(value=0.0, max=254.0), HTML(value='')))"
      ]
     },
     "metadata": {},
     "output_type": "display_data"
    },
    {
     "name": "stdout",
     "output_type": "stream",
     "text": [
      "\n",
      "Loss: 0.8520 | IoU: 0.9848 | dice: 0.4085 | f2_score: 0.4711 | accuracy: 0.5236\n",
      "* New optimal found according to dice, saving state *\n",
      "\n",
      "Starting epoch: 21 | phase: train | ⏰: 00:33:52\n"
     ]
    },
    {
     "data": {
      "application/vnd.jupyter.widget-view+json": {
       "model_id": "4f40806c7127423aa274770d4eb9e503",
       "version_major": 2,
       "version_minor": 0
      },
      "text/plain": [
       "HBox(children=(FloatProgress(value=0.0, max=127.0), HTML(value='')))"
      ]
     },
     "metadata": {},
     "output_type": "display_data"
    },
    {
     "name": "stdout",
     "output_type": "stream",
     "text": [
      "\n",
      "Loss: 0.6776 | IoU: 0.4418 | dice: 0.6030 | f2_score: 0.6503 | accuracy: 0.5427\n",
      "Starting epoch: 21 | phase: val | ⏰: 00:35:19\n"
     ]
    },
    {
     "data": {
      "application/vnd.jupyter.widget-view+json": {
       "model_id": "6f3cb3d465614eb1822c308eb98dd544",
       "version_major": 2,
       "version_minor": 0
      },
      "text/plain": [
       "HBox(children=(FloatProgress(value=0.0, max=254.0), HTML(value='')))"
      ]
     },
     "metadata": {},
     "output_type": "display_data"
    },
    {
     "name": "stdout",
     "output_type": "stream",
     "text": [
      "\n",
      "Loss: 0.8102 | IoU: 0.9836 | dice: 0.4125 | f2_score: 0.4739 | accuracy: 0.5236\n",
      "* New optimal found according to dice, saving state *\n",
      "\n",
      "Starting epoch: 22 | phase: train | ⏰: 00:36:10\n"
     ]
    },
    {
     "data": {
      "application/vnd.jupyter.widget-view+json": {
       "model_id": "9a42cb94742d4fa3ab3a765652b766ce",
       "version_major": 2,
       "version_minor": 0
      },
      "text/plain": [
       "HBox(children=(FloatProgress(value=0.0, max=127.0), HTML(value='')))"
      ]
     },
     "metadata": {},
     "output_type": "display_data"
    },
    {
     "name": "stdout",
     "output_type": "stream",
     "text": [
      "\n",
      "Loss: 0.5813 | IoU: 0.4466 | dice: 0.6082 | f2_score: 0.6537 | accuracy: 0.5509\n",
      "Starting epoch: 22 | phase: val | ⏰: 00:37:37\n"
     ]
    },
    {
     "data": {
      "application/vnd.jupyter.widget-view+json": {
       "model_id": "2923484d75274f798e2b8a383c04349a",
       "version_major": 2,
       "version_minor": 0
      },
      "text/plain": [
       "HBox(children=(FloatProgress(value=0.0, max=254.0), HTML(value='')))"
      ]
     },
     "metadata": {},
     "output_type": "display_data"
    },
    {
     "name": "stdout",
     "output_type": "stream",
     "text": [
      "\n",
      "Loss: 0.8253 | IoU: 0.9850 | dice: 0.4259 | f2_score: 0.4925 | accuracy: 0.4567\n",
      "* New optimal found according to dice, saving state *\n",
      "\n",
      "Starting epoch: 23 | phase: train | ⏰: 00:38:29\n"
     ]
    },
    {
     "data": {
      "application/vnd.jupyter.widget-view+json": {
       "model_id": "f47e0abada5547a59b9e1dd360e27d58",
       "version_major": 2,
       "version_minor": 0
      },
      "text/plain": [
       "HBox(children=(FloatProgress(value=0.0, max=127.0), HTML(value='')))"
      ]
     },
     "metadata": {},
     "output_type": "display_data"
    },
    {
     "name": "stdout",
     "output_type": "stream",
     "text": [
      "\n",
      "Loss: 0.5589 | IoU: 0.4528 | dice: 0.6165 | f2_score: 0.6611 | accuracy: 0.5154\n",
      "Starting epoch: 23 | phase: val | ⏰: 00:39:55\n"
     ]
    },
    {
     "data": {
      "application/vnd.jupyter.widget-view+json": {
       "model_id": "099c8eb180b04c4c805e46e898d5a067",
       "version_major": 2,
       "version_minor": 0
      },
      "text/plain": [
       "HBox(children=(FloatProgress(value=0.0, max=254.0), HTML(value='')))"
      ]
     },
     "metadata": {},
     "output_type": "display_data"
    },
    {
     "name": "stdout",
     "output_type": "stream",
     "text": [
      "\n",
      "Loss: 0.8117 | IoU: 0.9845 | dice: 0.4297 | f2_score: 0.4956 | accuracy: 0.4646\n",
      "* New optimal found according to dice, saving state *\n",
      "\n",
      "Starting epoch: 24 | phase: train | ⏰: 00:40:47\n"
     ]
    },
    {
     "data": {
      "application/vnd.jupyter.widget-view+json": {
       "model_id": "60da9b19abd6499dbd853712431ec5a0",
       "version_major": 2,
       "version_minor": 0
      },
      "text/plain": [
       "HBox(children=(FloatProgress(value=0.0, max=127.0), HTML(value='')))"
      ]
     },
     "metadata": {},
     "output_type": "display_data"
    },
    {
     "name": "stdout",
     "output_type": "stream",
     "text": [
      "\n",
      "Loss: 0.5495 | IoU: 0.4654 | dice: 0.6281 | f2_score: 0.6738 | accuracy: 0.5614\n",
      "Starting epoch: 24 | phase: val | ⏰: 00:42:14\n"
     ]
    },
    {
     "data": {
      "application/vnd.jupyter.widget-view+json": {
       "model_id": "e60356972f0245aa8625d4f6021fa40b",
       "version_major": 2,
       "version_minor": 0
      },
      "text/plain": [
       "HBox(children=(FloatProgress(value=0.0, max=254.0), HTML(value='')))"
      ]
     },
     "metadata": {},
     "output_type": "display_data"
    },
    {
     "name": "stdout",
     "output_type": "stream",
     "text": [
      "\n",
      "Loss: 0.8264 | IoU: 0.9842 | dice: 0.4412 | f2_score: 0.5106 | accuracy: 0.5157\n",
      "* New optimal found according to dice, saving state *\n",
      "\n",
      "Starting epoch: 25 | phase: train | ⏰: 00:43:06\n"
     ]
    },
    {
     "data": {
      "application/vnd.jupyter.widget-view+json": {
       "model_id": "93e2e6eeba04432cbd6fd3595ec59c4e",
       "version_major": 2,
       "version_minor": 0
      },
      "text/plain": [
       "HBox(children=(FloatProgress(value=0.0, max=127.0), HTML(value='')))"
      ]
     },
     "metadata": {},
     "output_type": "display_data"
    },
    {
     "name": "stdout",
     "output_type": "stream",
     "text": [
      "\n",
      "Loss: 0.5017 | IoU: 0.4751 | dice: 0.6361 | f2_score: 0.6800 | accuracy: 0.5344\n",
      "Starting epoch: 25 | phase: val | ⏰: 00:44:33\n"
     ]
    },
    {
     "data": {
      "application/vnd.jupyter.widget-view+json": {
       "model_id": "a37d3a9ba3ec4472b8e098b048ee802b",
       "version_major": 2,
       "version_minor": 0
      },
      "text/plain": [
       "HBox(children=(FloatProgress(value=0.0, max=254.0), HTML(value='')))"
      ]
     },
     "metadata": {},
     "output_type": "display_data"
    },
    {
     "name": "stdout",
     "output_type": "stream",
     "text": [
      "\n",
      "Loss: 0.7376 | IoU: 0.9845 | dice: 0.4474 | f2_score: 0.5183 | accuracy: 0.5354\n",
      "* New optimal found according to dice, saving state *\n",
      "\n",
      "Starting epoch: 26 | phase: train | ⏰: 00:45:26\n"
     ]
    },
    {
     "data": {
      "application/vnd.jupyter.widget-view+json": {
       "model_id": "8b3fc4be75ea4126a64b3b568a19331f",
       "version_major": 2,
       "version_minor": 0
      },
      "text/plain": [
       "HBox(children=(FloatProgress(value=0.0, max=127.0), HTML(value='')))"
      ]
     },
     "metadata": {},
     "output_type": "display_data"
    },
    {
     "name": "stdout",
     "output_type": "stream",
     "text": [
      "\n",
      "Loss: 0.5399 | IoU: 0.4804 | dice: 0.6422 | f2_score: 0.6869 | accuracy: 0.5328\n",
      "Starting epoch: 26 | phase: val | ⏰: 00:46:53\n"
     ]
    },
    {
     "data": {
      "application/vnd.jupyter.widget-view+json": {
       "model_id": "0cd1b7bf7b9b4753b9f8fccaedb07312",
       "version_major": 2,
       "version_minor": 0
      },
      "text/plain": [
       "HBox(children=(FloatProgress(value=0.0, max=254.0), HTML(value='')))"
      ]
     },
     "metadata": {},
     "output_type": "display_data"
    },
    {
     "name": "stdout",
     "output_type": "stream",
     "text": [
      "\n",
      "Loss: 0.7549 | IoU: 0.9845 | dice: 0.4507 | f2_score: 0.5224 | accuracy: 0.4567\n",
      "* New optimal found according to dice, saving state *\n",
      "\n",
      "Starting epoch: 27 | phase: train | ⏰: 00:47:45\n"
     ]
    },
    {
     "data": {
      "application/vnd.jupyter.widget-view+json": {
       "model_id": "7cef0db60df64c38aada21e5213c9b95",
       "version_major": 2,
       "version_minor": 0
      },
      "text/plain": [
       "HBox(children=(FloatProgress(value=0.0, max=127.0), HTML(value='')))"
      ]
     },
     "metadata": {},
     "output_type": "display_data"
    },
    {
     "name": "stdout",
     "output_type": "stream",
     "text": [
      "\n",
      "Loss: 0.4877 | IoU: 0.4866 | dice: 0.6477 | f2_score: 0.6884 | accuracy: 0.4665\n",
      "Starting epoch: 27 | phase: val | ⏰: 00:49:12\n"
     ]
    },
    {
     "data": {
      "application/vnd.jupyter.widget-view+json": {
       "model_id": "aebb8ed3308b43eb8d5dc2d42ea1649a",
       "version_major": 2,
       "version_minor": 0
      },
      "text/plain": [
       "HBox(children=(FloatProgress(value=0.0, max=254.0), HTML(value='')))"
      ]
     },
     "metadata": {},
     "output_type": "display_data"
    },
    {
     "name": "stdout",
     "output_type": "stream",
     "text": [
      "\n",
      "Loss: 0.7711 | IoU: 0.9846 | dice: 0.4550 | f2_score: 0.5274 | accuracy: 0.4803\n",
      "* New optimal found according to dice, saving state *\n",
      "\n",
      "Starting epoch: 28 | phase: train | ⏰: 00:50:04\n"
     ]
    },
    {
     "data": {
      "application/vnd.jupyter.widget-view+json": {
       "model_id": "9423b36c26904d5b99bfba378044316a",
       "version_major": 2,
       "version_minor": 0
      },
      "text/plain": [
       "HBox(children=(FloatProgress(value=0.0, max=127.0), HTML(value='')))"
      ]
     },
     "metadata": {},
     "output_type": "display_data"
    },
    {
     "name": "stdout",
     "output_type": "stream",
     "text": [
      "\n",
      "Loss: 0.5128 | IoU: 0.4862 | dice: 0.6494 | f2_score: 0.6933 | accuracy: 0.5138\n",
      "Starting epoch: 28 | phase: val | ⏰: 00:51:31\n"
     ]
    },
    {
     "data": {
      "application/vnd.jupyter.widget-view+json": {
       "model_id": "6be362369fc945e09f5695b3caf1c5d1",
       "version_major": 2,
       "version_minor": 0
      },
      "text/plain": [
       "HBox(children=(FloatProgress(value=0.0, max=254.0), HTML(value='')))"
      ]
     },
     "metadata": {},
     "output_type": "display_data"
    },
    {
     "name": "stdout",
     "output_type": "stream",
     "text": [
      "\n",
      "Loss: 0.8339 | IoU: 0.9851 | dice: 0.4505 | f2_score: 0.5238 | accuracy: 0.4764\n",
      "\n",
      "Starting epoch: 29 | phase: train | ⏰: 00:52:02\n"
     ]
    },
    {
     "data": {
      "application/vnd.jupyter.widget-view+json": {
       "model_id": "51cc22c7be0f47dd9476a77122da31e3",
       "version_major": 2,
       "version_minor": 0
      },
      "text/plain": [
       "HBox(children=(FloatProgress(value=0.0, max=127.0), HTML(value='')))"
      ]
     },
     "metadata": {},
     "output_type": "display_data"
    },
    {
     "name": "stdout",
     "output_type": "stream",
     "text": [
      "\n",
      "Loss: 0.5680 | IoU: 0.4941 | dice: 0.6547 | f2_score: 0.6982 | accuracy: 0.5243\n",
      "Starting epoch: 29 | phase: val | ⏰: 00:53:28\n"
     ]
    },
    {
     "data": {
      "application/vnd.jupyter.widget-view+json": {
       "model_id": "be3659a47c0c43babcba941158c88f5d",
       "version_major": 2,
       "version_minor": 0
      },
      "text/plain": [
       "HBox(children=(FloatProgress(value=0.0, max=254.0), HTML(value='')))"
      ]
     },
     "metadata": {},
     "output_type": "display_data"
    },
    {
     "name": "stdout",
     "output_type": "stream",
     "text": [
      "\n",
      "Loss: 0.8326 | IoU: 0.9856 | dice: 0.4593 | f2_score: 0.5335 | accuracy: 0.4764\n",
      "* New optimal found according to dice, saving state *\n",
      "\n",
      "Starting epoch: 30 | phase: train | ⏰: 00:54:19\n"
     ]
    },
    {
     "data": {
      "application/vnd.jupyter.widget-view+json": {
       "model_id": "aa165840eb784cda88caff899fb89df5",
       "version_major": 2,
       "version_minor": 0
      },
      "text/plain": [
       "HBox(children=(FloatProgress(value=0.0, max=127.0), HTML(value='')))"
      ]
     },
     "metadata": {},
     "output_type": "display_data"
    },
    {
     "name": "stdout",
     "output_type": "stream",
     "text": [
      "\n",
      "Loss: 0.5065 | IoU: 0.5017 | dice: 0.6611 | f2_score: 0.7029 | accuracy: 0.4882\n",
      "Starting epoch: 30 | phase: val | ⏰: 00:55:47\n"
     ]
    },
    {
     "data": {
      "application/vnd.jupyter.widget-view+json": {
       "model_id": "2b2f4bae936b4e6ea7f883f13c5ca3bf",
       "version_major": 2,
       "version_minor": 0
      },
      "text/plain": [
       "HBox(children=(FloatProgress(value=0.0, max=254.0), HTML(value='')))"
      ]
     },
     "metadata": {},
     "output_type": "display_data"
    },
    {
     "name": "stdout",
     "output_type": "stream",
     "text": [
      "\n",
      "Loss: 0.8744 | IoU: 0.9846 | dice: 0.4632 | f2_score: 0.5372 | accuracy: 0.4291\n",
      "Epoch    31: reducing learning rate of group 0 to 2.5000e-04.\n",
      "* New optimal found according to dice, saving state *\n",
      "\n",
      "Starting epoch: 31 | phase: train | ⏰: 00:56:38\n"
     ]
    },
    {
     "data": {
      "application/vnd.jupyter.widget-view+json": {
       "model_id": "87841a944aa9470ab02eece9998ccc95",
       "version_major": 2,
       "version_minor": 0
      },
      "text/plain": [
       "HBox(children=(FloatProgress(value=0.0, max=127.0), HTML(value='')))"
      ]
     },
     "metadata": {},
     "output_type": "display_data"
    },
    {
     "name": "stdout",
     "output_type": "stream",
     "text": [
      "\n",
      "Loss: 0.4523 | IoU: 0.5098 | dice: 0.6691 | f2_score: 0.7126 | accuracy: 0.4705\n",
      "Starting epoch: 31 | phase: val | ⏰: 00:58:05\n"
     ]
    },
    {
     "data": {
      "application/vnd.jupyter.widget-view+json": {
       "model_id": "524454a9d77d4c3eba0fd065089ca9fd",
       "version_major": 2,
       "version_minor": 0
      },
      "text/plain": [
       "HBox(children=(FloatProgress(value=0.0, max=254.0), HTML(value='')))"
      ]
     },
     "metadata": {},
     "output_type": "display_data"
    },
    {
     "name": "stdout",
     "output_type": "stream",
     "text": [
      "\n",
      "Loss: 0.7589 | IoU: 0.9853 | dice: 0.4704 | f2_score: 0.5470 | accuracy: 0.4134\n",
      "* New optimal found according to dice, saving state *\n",
      "\n",
      "Starting epoch: 32 | phase: train | ⏰: 00:58:56\n"
     ]
    },
    {
     "data": {
      "application/vnd.jupyter.widget-view+json": {
       "model_id": "6dbb69f9dad74364b22680715eaec146",
       "version_major": 2,
       "version_minor": 0
      },
      "text/plain": [
       "HBox(children=(FloatProgress(value=0.0, max=127.0), HTML(value='')))"
      ]
     },
     "metadata": {},
     "output_type": "display_data"
    },
    {
     "name": "stdout",
     "output_type": "stream",
     "text": [
      "\n",
      "Loss: 0.4268 | IoU: 0.5170 | dice: 0.6754 | f2_score: 0.7180 | accuracy: 0.4816\n",
      "Starting epoch: 32 | phase: val | ⏰: 01:00:22\n"
     ]
    },
    {
     "data": {
      "application/vnd.jupyter.widget-view+json": {
       "model_id": "1918b59d6454464185b8914c38d33831",
       "version_major": 2,
       "version_minor": 0
      },
      "text/plain": [
       "HBox(children=(FloatProgress(value=0.0, max=254.0), HTML(value='')))"
      ]
     },
     "metadata": {},
     "output_type": "display_data"
    },
    {
     "name": "stdout",
     "output_type": "stream",
     "text": [
      "\n",
      "Loss: 0.7270 | IoU: 0.9855 | dice: 0.4729 | f2_score: 0.5493 | accuracy: 0.4331\n",
      "* New optimal found according to dice, saving state *\n",
      "\n",
      "Starting epoch: 33 | phase: train | ⏰: 01:01:13\n"
     ]
    },
    {
     "data": {
      "application/vnd.jupyter.widget-view+json": {
       "model_id": "7a9d4878181e440aa5c897d227920366",
       "version_major": 2,
       "version_minor": 0
      },
      "text/plain": [
       "HBox(children=(FloatProgress(value=0.0, max=127.0), HTML(value='')))"
      ]
     },
     "metadata": {},
     "output_type": "display_data"
    },
    {
     "name": "stdout",
     "output_type": "stream",
     "text": [
      "\n",
      "Loss: 0.4007 | IoU: 0.5181 | dice: 0.6770 | f2_score: 0.7170 | accuracy: 0.5141\n",
      "Starting epoch: 33 | phase: val | ⏰: 01:02:38\n"
     ]
    },
    {
     "data": {
      "application/vnd.jupyter.widget-view+json": {
       "model_id": "b39d7a68a3e246d6914af564dc59a34e",
       "version_major": 2,
       "version_minor": 0
      },
      "text/plain": [
       "HBox(children=(FloatProgress(value=0.0, max=254.0), HTML(value='')))"
      ]
     },
     "metadata": {},
     "output_type": "display_data"
    },
    {
     "name": "stdout",
     "output_type": "stream",
     "text": [
      "\n",
      "Loss: 0.7401 | IoU: 0.9854 | dice: 0.4733 | f2_score: 0.5503 | accuracy: 0.4331\n",
      "* New optimal found according to dice, saving state *\n",
      "\n",
      "Starting epoch: 34 | phase: train | ⏰: 01:03:29\n"
     ]
    },
    {
     "data": {
      "application/vnd.jupyter.widget-view+json": {
       "model_id": "8a18ea04110d4f0f822cf952ac53177d",
       "version_major": 2,
       "version_minor": 0
      },
      "text/plain": [
       "HBox(children=(FloatProgress(value=0.0, max=127.0), HTML(value='')))"
      ]
     },
     "metadata": {},
     "output_type": "display_data"
    },
    {
     "name": "stdout",
     "output_type": "stream",
     "text": [
      "\n",
      "Loss: 0.4120 | IoU: 0.5230 | dice: 0.6811 | f2_score: 0.7235 | accuracy: 0.4826\n",
      "Starting epoch: 34 | phase: val | ⏰: 01:04:53\n"
     ]
    },
    {
     "data": {
      "application/vnd.jupyter.widget-view+json": {
       "model_id": "0e37324044eb4ad1aaacbeded4530b64",
       "version_major": 2,
       "version_minor": 0
      },
      "text/plain": [
       "HBox(children=(FloatProgress(value=0.0, max=254.0), HTML(value='')))"
      ]
     },
     "metadata": {},
     "output_type": "display_data"
    },
    {
     "name": "stdout",
     "output_type": "stream",
     "text": [
      "\n",
      "Loss: 0.7069 | IoU: 0.9855 | dice: 0.4779 | f2_score: 0.5550 | accuracy: 0.3937\n",
      "* New optimal found according to dice, saving state *\n",
      "\n",
      "Starting epoch: 35 | phase: train | ⏰: 01:05:43\n"
     ]
    },
    {
     "data": {
      "application/vnd.jupyter.widget-view+json": {
       "model_id": "d66ae7b1381d4c3892f1211b40c4dc8b",
       "version_major": 2,
       "version_minor": 0
      },
      "text/plain": [
       "HBox(children=(FloatProgress(value=0.0, max=127.0), HTML(value='')))"
      ]
     },
     "metadata": {},
     "output_type": "display_data"
    },
    {
     "name": "stdout",
     "output_type": "stream",
     "text": [
      "\n",
      "Loss: 0.3853 | IoU: 0.5298 | dice: 0.6872 | f2_score: 0.7287 | accuracy: 0.4859\n",
      "Starting epoch: 35 | phase: val | ⏰: 01:07:08\n"
     ]
    },
    {
     "data": {
      "application/vnd.jupyter.widget-view+json": {
       "model_id": "94d7c105a41e489995f8f598012dde25",
       "version_major": 2,
       "version_minor": 0
      },
      "text/plain": [
       "HBox(children=(FloatProgress(value=0.0, max=254.0), HTML(value='')))"
      ]
     },
     "metadata": {},
     "output_type": "display_data"
    },
    {
     "name": "stdout",
     "output_type": "stream",
     "text": [
      "\n",
      "Loss: 0.6748 | IoU: 0.9858 | dice: 0.4800 | f2_score: 0.5582 | accuracy: 0.4331\n",
      "* New optimal found according to dice, saving state *\n",
      "\n",
      "Starting epoch: 36 | phase: train | ⏰: 01:07:57\n"
     ]
    },
    {
     "data": {
      "application/vnd.jupyter.widget-view+json": {
       "model_id": "5ea64caaa8274b6aa2a49d5719ba0eb1",
       "version_major": 2,
       "version_minor": 0
      },
      "text/plain": [
       "HBox(children=(FloatProgress(value=0.0, max=127.0), HTML(value='')))"
      ]
     },
     "metadata": {},
     "output_type": "display_data"
    },
    {
     "name": "stdout",
     "output_type": "stream",
     "text": [
      "\n",
      "Loss: 0.3880 | IoU: 0.5243 | dice: 0.6822 | f2_score: 0.7251 | accuracy: 0.4669\n",
      "Starting epoch: 36 | phase: val | ⏰: 01:09:22\n"
     ]
    },
    {
     "data": {
      "application/vnd.jupyter.widget-view+json": {
       "model_id": "9471fc37690d428f95b9e98957f9c988",
       "version_major": 2,
       "version_minor": 0
      },
      "text/plain": [
       "HBox(children=(FloatProgress(value=0.0, max=254.0), HTML(value='')))"
      ]
     },
     "metadata": {},
     "output_type": "display_data"
    },
    {
     "name": "stdout",
     "output_type": "stream",
     "text": [
      "\n",
      "Loss: 0.7592 | IoU: 0.9861 | dice: 0.4812 | f2_score: 0.5593 | accuracy: 0.3858\n",
      "* New optimal found according to dice, saving state *\n",
      "\n",
      "Starting epoch: 37 | phase: train | ⏰: 01:10:11\n"
     ]
    },
    {
     "data": {
      "application/vnd.jupyter.widget-view+json": {
       "model_id": "0a3b840de6c44ec2af736e360a49514e",
       "version_major": 2,
       "version_minor": 0
      },
      "text/plain": [
       "HBox(children=(FloatProgress(value=0.0, max=127.0), HTML(value='')))"
      ]
     },
     "metadata": {},
     "output_type": "display_data"
    },
    {
     "name": "stdout",
     "output_type": "stream",
     "text": [
      "\n",
      "Loss: 0.3735 | IoU: 0.5293 | dice: 0.6879 | f2_score: 0.7298 | accuracy: 0.4865\n",
      "Starting epoch: 37 | phase: val | ⏰: 01:11:35\n"
     ]
    },
    {
     "data": {
      "application/vnd.jupyter.widget-view+json": {
       "model_id": "9c1e6366407a48d4817dabbd410cc61c",
       "version_major": 2,
       "version_minor": 0
      },
      "text/plain": [
       "HBox(children=(FloatProgress(value=0.0, max=254.0), HTML(value='')))"
      ]
     },
     "metadata": {},
     "output_type": "display_data"
    },
    {
     "name": "stdout",
     "output_type": "stream",
     "text": [
      "\n",
      "Loss: 0.7183 | IoU: 0.9856 | dice: 0.4829 | f2_score: 0.5615 | accuracy: 0.3937\n",
      "* New optimal found according to dice, saving state *\n",
      "\n",
      "Starting epoch: 38 | phase: train | ⏰: 01:12:26\n"
     ]
    },
    {
     "data": {
      "application/vnd.jupyter.widget-view+json": {
       "model_id": "be8c1c50b4034b9c908c3a54c8f7db51",
       "version_major": 2,
       "version_minor": 0
      },
      "text/plain": [
       "HBox(children=(FloatProgress(value=0.0, max=127.0), HTML(value='')))"
      ]
     },
     "metadata": {},
     "output_type": "display_data"
    },
    {
     "name": "stdout",
     "output_type": "stream",
     "text": [
      "\n",
      "Loss: 0.3379 | IoU: 0.5340 | dice: 0.6907 | f2_score: 0.7316 | accuracy: 0.4521\n",
      "Starting epoch: 38 | phase: val | ⏰: 01:13:50\n"
     ]
    },
    {
     "data": {
      "application/vnd.jupyter.widget-view+json": {
       "model_id": "bce85d0d0ab1497d9da4f0eb16ff9dd5",
       "version_major": 2,
       "version_minor": 0
      },
      "text/plain": [
       "HBox(children=(FloatProgress(value=0.0, max=254.0), HTML(value='')))"
      ]
     },
     "metadata": {},
     "output_type": "display_data"
    },
    {
     "name": "stdout",
     "output_type": "stream",
     "text": [
      "\n",
      "Loss: 0.7244 | IoU: 0.9857 | dice: 0.4833 | f2_score: 0.5622 | accuracy: 0.3661\n",
      "* New optimal found according to dice, saving state *\n",
      "\n",
      "Starting epoch: 39 | phase: train | ⏰: 01:14:40\n"
     ]
    },
    {
     "data": {
      "application/vnd.jupyter.widget-view+json": {
       "model_id": "b74b4e3c5bb644ea892f872f8a03b47c",
       "version_major": 2,
       "version_minor": 0
      },
      "text/plain": [
       "HBox(children=(FloatProgress(value=0.0, max=127.0), HTML(value='')))"
      ]
     },
     "metadata": {},
     "output_type": "display_data"
    },
    {
     "name": "stdout",
     "output_type": "stream",
     "text": [
      "\n",
      "Loss: 0.3600 | IoU: 0.5373 | dice: 0.6959 | f2_score: 0.7359 | accuracy: 0.4478\n",
      "Starting epoch: 39 | phase: val | ⏰: 01:16:04\n"
     ]
    },
    {
     "data": {
      "application/vnd.jupyter.widget-view+json": {
       "model_id": "99827b61ea604b44ab37434dedc8432d",
       "version_major": 2,
       "version_minor": 0
      },
      "text/plain": [
       "HBox(children=(FloatProgress(value=0.0, max=254.0), HTML(value='')))"
      ]
     },
     "metadata": {},
     "output_type": "display_data"
    },
    {
     "name": "stdout",
     "output_type": "stream",
     "text": [
      "\n",
      "Loss: 0.7518 | IoU: 0.9857 | dice: 0.4889 | f2_score: 0.5691 | accuracy: 0.4016\n",
      "* New optimal found according to dice, saving state *\n",
      "\n",
      "Starting epoch: 40 | phase: train | ⏰: 01:16:53\n"
     ]
    },
    {
     "data": {
      "application/vnd.jupyter.widget-view+json": {
       "model_id": "6382e83a78504d54b61555211174a905",
       "version_major": 2,
       "version_minor": 0
      },
      "text/plain": [
       "HBox(children=(FloatProgress(value=0.0, max=127.0), HTML(value='')))"
      ]
     },
     "metadata": {},
     "output_type": "display_data"
    },
    {
     "name": "stdout",
     "output_type": "stream",
     "text": [
      "\n",
      "Loss: 0.3482 | IoU: 0.5418 | dice: 0.6987 | f2_score: 0.7415 | accuracy: 0.4701\n",
      "Starting epoch: 40 | phase: val | ⏰: 01:18:11\n"
     ]
    },
    {
     "data": {
      "application/vnd.jupyter.widget-view+json": {
       "model_id": "d8d1110a41464f37b8a757c7f7b0ba32",
       "version_major": 2,
       "version_minor": 0
      },
      "text/plain": [
       "HBox(children=(FloatProgress(value=0.0, max=254.0), HTML(value='')))"
      ]
     },
     "metadata": {},
     "output_type": "display_data"
    },
    {
     "name": "stdout",
     "output_type": "stream",
     "text": [
      "\n",
      "Loss: 0.7594 | IoU: 0.9855 | dice: 0.4887 | f2_score: 0.5687 | accuracy: 0.4173\n",
      "Epoch    41: reducing learning rate of group 0 to 1.2500e-04.\n",
      "\n",
      "Starting epoch: 41 | phase: train | ⏰: 01:18:40\n"
     ]
    },
    {
     "data": {
      "application/vnd.jupyter.widget-view+json": {
       "model_id": "0f01d90de3024dae8a45c15ad0415858",
       "version_major": 2,
       "version_minor": 0
      },
      "text/plain": [
       "HBox(children=(FloatProgress(value=0.0, max=127.0), HTML(value='')))"
      ]
     },
     "metadata": {},
     "output_type": "display_data"
    },
    {
     "name": "stdout",
     "output_type": "stream",
     "text": [
      "\n",
      "Loss: 0.3526 | IoU: 0.5435 | dice: 0.6985 | f2_score: 0.7400 | accuracy: 0.4567\n",
      "Starting epoch: 41 | phase: val | ⏰: 01:19:57\n"
     ]
    },
    {
     "data": {
      "application/vnd.jupyter.widget-view+json": {
       "model_id": "0219d40df11841deb612ea20f2085239",
       "version_major": 2,
       "version_minor": 0
      },
      "text/plain": [
       "HBox(children=(FloatProgress(value=0.0, max=254.0), HTML(value='')))"
      ]
     },
     "metadata": {},
     "output_type": "display_data"
    },
    {
     "name": "stdout",
     "output_type": "stream",
     "text": [
      "\n",
      "Loss: 0.7514 | IoU: 0.9858 | dice: 0.4909 | f2_score: 0.5714 | accuracy: 0.4055\n",
      "* New optimal found according to dice, saving state *\n",
      "\n",
      "Starting epoch: 42 | phase: train | ⏰: 01:20:47\n"
     ]
    },
    {
     "data": {
      "application/vnd.jupyter.widget-view+json": {
       "model_id": "ba21b139795d4ded91c5916ed0e40b5d",
       "version_major": 2,
       "version_minor": 0
      },
      "text/plain": [
       "HBox(children=(FloatProgress(value=0.0, max=127.0), HTML(value='')))"
      ]
     },
     "metadata": {},
     "output_type": "display_data"
    },
    {
     "name": "stdout",
     "output_type": "stream",
     "text": [
      "\n",
      "Loss: 0.3377 | IoU: 0.5453 | dice: 0.7018 | f2_score: 0.7439 | accuracy: 0.4724\n",
      "Starting epoch: 42 | phase: val | ⏰: 01:22:04\n"
     ]
    },
    {
     "data": {
      "application/vnd.jupyter.widget-view+json": {
       "model_id": "24c928db467c470d808257aa1f5effbf",
       "version_major": 2,
       "version_minor": 0
      },
      "text/plain": [
       "HBox(children=(FloatProgress(value=0.0, max=254.0), HTML(value='')))"
      ]
     },
     "metadata": {},
     "output_type": "display_data"
    },
    {
     "name": "stdout",
     "output_type": "stream",
     "text": [
      "\n",
      "Loss: 0.7393 | IoU: 0.9859 | dice: 0.4884 | f2_score: 0.5681 | accuracy: 0.4094\n",
      "\n",
      "Starting epoch: 43 | phase: train | ⏰: 01:22:34\n"
     ]
    },
    {
     "data": {
      "application/vnd.jupyter.widget-view+json": {
       "model_id": "8f3b574cd8b64117a834d5b39ee252bb",
       "version_major": 2,
       "version_minor": 0
      },
      "text/plain": [
       "HBox(children=(FloatProgress(value=0.0, max=127.0), HTML(value='')))"
      ]
     },
     "metadata": {},
     "output_type": "display_data"
    },
    {
     "name": "stdout",
     "output_type": "stream",
     "text": [
      "\n",
      "Loss: 0.3326 | IoU: 0.5448 | dice: 0.6994 | f2_score: 0.7400 | accuracy: 0.4564\n",
      "Starting epoch: 43 | phase: val | ⏰: 01:23:51\n"
     ]
    },
    {
     "data": {
      "application/vnd.jupyter.widget-view+json": {
       "model_id": "4d754d3bd42744f48a8291bf967876f2",
       "version_major": 2,
       "version_minor": 0
      },
      "text/plain": [
       "HBox(children=(FloatProgress(value=0.0, max=254.0), HTML(value='')))"
      ]
     },
     "metadata": {},
     "output_type": "display_data"
    },
    {
     "name": "stdout",
     "output_type": "stream",
     "text": [
      "\n",
      "Loss: 0.7363 | IoU: 0.9859 | dice: 0.4921 | f2_score: 0.5729 | accuracy: 0.4016\n",
      "* New optimal found according to dice, saving state *\n",
      "\n",
      "Starting epoch: 44 | phase: train | ⏰: 01:24:41\n"
     ]
    },
    {
     "data": {
      "application/vnd.jupyter.widget-view+json": {
       "model_id": "2900c2f0167f43d6b249e18ca38eadd1",
       "version_major": 2,
       "version_minor": 0
      },
      "text/plain": [
       "HBox(children=(FloatProgress(value=0.0, max=127.0), HTML(value='')))"
      ]
     },
     "metadata": {},
     "output_type": "display_data"
    },
    {
     "name": "stdout",
     "output_type": "stream",
     "text": [
      "\n",
      "Loss: 0.3350 | IoU: 0.5456 | dice: 0.7020 | f2_score: 0.7435 | accuracy: 0.4482\n",
      "Starting epoch: 44 | phase: val | ⏰: 01:25:58\n"
     ]
    },
    {
     "data": {
      "application/vnd.jupyter.widget-view+json": {
       "model_id": "bc04b5747fcd4910be6519968adaf66d",
       "version_major": 2,
       "version_minor": 0
      },
      "text/plain": [
       "HBox(children=(FloatProgress(value=0.0, max=254.0), HTML(value='')))"
      ]
     },
     "metadata": {},
     "output_type": "display_data"
    },
    {
     "name": "stdout",
     "output_type": "stream",
     "text": [
      "\n",
      "Loss: 0.7446 | IoU: 0.9860 | dice: 0.4918 | f2_score: 0.5726 | accuracy: 0.3937\n",
      "\n",
      "Starting epoch: 0 | phase: train | ⏰: 01:26:28\n"
     ]
    },
    {
     "data": {
      "application/vnd.jupyter.widget-view+json": {
       "model_id": "4e873cea854c401a8b515c662ff8b81c",
       "version_major": 2,
       "version_minor": 0
      },
      "text/plain": [
       "HBox(children=(FloatProgress(value=0.0, max=127.0), HTML(value='')))"
      ]
     },
     "metadata": {},
     "output_type": "display_data"
    },
    {
     "name": "stdout",
     "output_type": "stream",
     "text": [
      "\n",
      "Loss: 2.9363 | IoU: 0.0710 | dice: 0.1175 | f2_score: 0.1455 | accuracy: 0.1260\n",
      "Starting epoch: 0 | phase: val | ⏰: 01:27:54\n"
     ]
    },
    {
     "data": {
      "application/vnd.jupyter.widget-view+json": {
       "model_id": "e1134405f85c40e9b0cc42d6264bd53d",
       "version_major": 2,
       "version_minor": 0
      },
      "text/plain": [
       "HBox(children=(FloatProgress(value=0.0, max=254.0), HTML(value='')))"
      ]
     },
     "metadata": {},
     "output_type": "display_data"
    },
    {
     "name": "stdout",
     "output_type": "stream",
     "text": [
      "\n",
      "Loss: 1.6426 | IoU: 0.9906 | dice: 0.1037 | f2_score: 0.0905 | accuracy: 0.3031\n",
      "* New optimal found according to dice, saving state *\n",
      "* New optimal found according to accuracy, saving state *\n",
      "\n",
      "Starting epoch: 1 | phase: train | ⏰: 01:29:04\n"
     ]
    },
    {
     "data": {
      "application/vnd.jupyter.widget-view+json": {
       "model_id": "c6fd832665dc447db9977249b1c9adb7",
       "version_major": 2,
       "version_minor": 0
      },
      "text/plain": [
       "HBox(children=(FloatProgress(value=0.0, max=127.0), HTML(value='')))"
      ]
     },
     "metadata": {},
     "output_type": "display_data"
    },
    {
     "name": "stdout",
     "output_type": "stream",
     "text": [
      "\n",
      "Loss: 2.0543 | IoU: 0.1719 | dice: 0.2710 | f2_score: 0.3097 | accuracy: 0.3212\n",
      "Starting epoch: 1 | phase: val | ⏰: 01:30:30\n"
     ]
    },
    {
     "data": {
      "application/vnd.jupyter.widget-view+json": {
       "model_id": "85cc81a9fc1e43fdadcb8200b5d855a5",
       "version_major": 2,
       "version_minor": 0
      },
      "text/plain": [
       "HBox(children=(FloatProgress(value=0.0, max=254.0), HTML(value='')))"
      ]
     },
     "metadata": {},
     "output_type": "display_data"
    },
    {
     "name": "stdout",
     "output_type": "stream",
     "text": [
      "\n",
      "Loss: 1.4731 | IoU: 0.9883 | dice: 0.1822 | f2_score: 0.1864 | accuracy: 0.5354\n",
      "* New optimal found according to dice, saving state *\n",
      "* New optimal found according to accuracy, saving state *\n",
      "\n",
      "Starting epoch: 2 | phase: train | ⏰: 01:31:41\n"
     ]
    },
    {
     "data": {
      "application/vnd.jupyter.widget-view+json": {
       "model_id": "f54eca7c1ada4141ae009eadf76bd5fd",
       "version_major": 2,
       "version_minor": 0
      },
      "text/plain": [
       "HBox(children=(FloatProgress(value=0.0, max=127.0), HTML(value='')))"
      ]
     },
     "metadata": {},
     "output_type": "display_data"
    },
    {
     "name": "stdout",
     "output_type": "stream",
     "text": [
      "\n",
      "Loss: 1.8862 | IoU: 0.2181 | dice: 0.3406 | f2_score: 0.3809 | accuracy: 0.3894\n",
      "Starting epoch: 2 | phase: val | ⏰: 01:33:08\n"
     ]
    },
    {
     "data": {
      "application/vnd.jupyter.widget-view+json": {
       "model_id": "2d40d0e7476d41df8af9ec92850ba87b",
       "version_major": 2,
       "version_minor": 0
      },
      "text/plain": [
       "HBox(children=(FloatProgress(value=0.0, max=254.0), HTML(value='')))"
      ]
     },
     "metadata": {},
     "output_type": "display_data"
    },
    {
     "name": "stdout",
     "output_type": "stream",
     "text": [
      "\n",
      "Loss: 1.6325 | IoU: 0.9781 | dice: 0.2796 | f2_score: 0.3027 | accuracy: 0.4016\n",
      "* New optimal found according to dice, saving state *\n",
      "\n",
      "Starting epoch: 3 | phase: train | ⏰: 01:33:58\n"
     ]
    },
    {
     "data": {
      "application/vnd.jupyter.widget-view+json": {
       "model_id": "0e36a1219f764373b38438e5a06ccda5",
       "version_major": 2,
       "version_minor": 0
      },
      "text/plain": [
       "HBox(children=(FloatProgress(value=0.0, max=127.0), HTML(value='')))"
      ]
     },
     "metadata": {},
     "output_type": "display_data"
    },
    {
     "name": "stdout",
     "output_type": "stream",
     "text": [
      "\n",
      "Loss: 1.6544 | IoU: 0.2528 | dice: 0.3879 | f2_score: 0.4311 | accuracy: 0.4278\n",
      "Starting epoch: 3 | phase: val | ⏰: 01:35:25\n"
     ]
    },
    {
     "data": {
      "application/vnd.jupyter.widget-view+json": {
       "model_id": "538c9352650349c191830face21c3b43",
       "version_major": 2,
       "version_minor": 0
      },
      "text/plain": [
       "HBox(children=(FloatProgress(value=0.0, max=254.0), HTML(value='')))"
      ]
     },
     "metadata": {},
     "output_type": "display_data"
    },
    {
     "name": "stdout",
     "output_type": "stream",
     "text": [
      "\n",
      "Loss: 1.3338 | IoU: 0.9833 | dice: 0.2872 | f2_score: 0.3207 | accuracy: 0.6063\n",
      "* New optimal found according to dice, saving state *\n",
      "* New optimal found according to accuracy, saving state *\n",
      "\n",
      "Starting epoch: 4 | phase: train | ⏰: 01:36:36\n"
     ]
    },
    {
     "data": {
      "application/vnd.jupyter.widget-view+json": {
       "model_id": "03df9ae3eb1c4c1cba7083126daae483",
       "version_major": 2,
       "version_minor": 0
      },
      "text/plain": [
       "HBox(children=(FloatProgress(value=0.0, max=127.0), HTML(value='')))"
      ]
     },
     "metadata": {},
     "output_type": "display_data"
    },
    {
     "name": "stdout",
     "output_type": "stream",
     "text": [
      "\n",
      "Loss: 1.7537 | IoU: 0.2760 | dice: 0.4148 | f2_score: 0.4574 | accuracy: 0.4285\n",
      "Starting epoch: 4 | phase: val | ⏰: 01:38:03\n"
     ]
    },
    {
     "data": {
      "application/vnd.jupyter.widget-view+json": {
       "model_id": "ff9b90386c8e45668841efc02e9f33bf",
       "version_major": 2,
       "version_minor": 0
      },
      "text/plain": [
       "HBox(children=(FloatProgress(value=0.0, max=254.0), HTML(value='')))"
      ]
     },
     "metadata": {},
     "output_type": "display_data"
    },
    {
     "name": "stdout",
     "output_type": "stream",
     "text": [
      "\n",
      "Loss: 1.4045 | IoU: 0.9827 | dice: 0.3113 | f2_score: 0.3522 | accuracy: 0.6063\n",
      "* New optimal found according to dice, saving state *\n",
      "\n",
      "Starting epoch: 5 | phase: train | ⏰: 01:38:53\n"
     ]
    },
    {
     "data": {
      "application/vnd.jupyter.widget-view+json": {
       "model_id": "6ac65b08d79b489aa921489fd5b87cfa",
       "version_major": 2,
       "version_minor": 0
      },
      "text/plain": [
       "HBox(children=(FloatProgress(value=0.0, max=127.0), HTML(value='')))"
      ]
     },
     "metadata": {},
     "output_type": "display_data"
    },
    {
     "name": "stdout",
     "output_type": "stream",
     "text": [
      "\n",
      "Loss: 1.5476 | IoU: 0.2832 | dice: 0.4284 | f2_score: 0.4650 | accuracy: 0.4035\n",
      "Starting epoch: 5 | phase: val | ⏰: 01:40:20\n"
     ]
    },
    {
     "data": {
      "application/vnd.jupyter.widget-view+json": {
       "model_id": "99c446d829174a3093fc989b909dd96d",
       "version_major": 2,
       "version_minor": 0
      },
      "text/plain": [
       "HBox(children=(FloatProgress(value=0.0, max=254.0), HTML(value='')))"
      ]
     },
     "metadata": {},
     "output_type": "display_data"
    },
    {
     "name": "stdout",
     "output_type": "stream",
     "text": [
      "\n",
      "Loss: 1.4272 | IoU: 0.9824 | dice: 0.3106 | f2_score: 0.3475 | accuracy: 0.5945\n",
      "\n",
      "Starting epoch: 6 | phase: train | ⏰: 01:40:49\n"
     ]
    },
    {
     "data": {
      "application/vnd.jupyter.widget-view+json": {
       "model_id": "516e0f49e0204f3f9cd082d71b55ce6b",
       "version_major": 2,
       "version_minor": 0
      },
      "text/plain": [
       "HBox(children=(FloatProgress(value=0.0, max=127.0), HTML(value='')))"
      ]
     },
     "metadata": {},
     "output_type": "display_data"
    },
    {
     "name": "stdout",
     "output_type": "stream",
     "text": [
      "\n",
      "Loss: 1.5792 | IoU: 0.2715 | dice: 0.4120 | f2_score: 0.4489 | accuracy: 0.4423\n",
      "Starting epoch: 6 | phase: val | ⏰: 01:42:15\n"
     ]
    },
    {
     "data": {
      "application/vnd.jupyter.widget-view+json": {
       "model_id": "d790e84b56e94c24b8dff3ddfad9a6eb",
       "version_major": 2,
       "version_minor": 0
      },
      "text/plain": [
       "HBox(children=(FloatProgress(value=0.0, max=254.0), HTML(value='')))"
      ]
     },
     "metadata": {},
     "output_type": "display_data"
    },
    {
     "name": "stdout",
     "output_type": "stream",
     "text": [
      "\n",
      "Loss: 1.3937 | IoU: 0.9842 | dice: 0.3169 | f2_score: 0.3575 | accuracy: 0.5748\n",
      "* New optimal found according to dice, saving state *\n",
      "\n",
      "Starting epoch: 7 | phase: train | ⏰: 01:43:06\n"
     ]
    },
    {
     "data": {
      "application/vnd.jupyter.widget-view+json": {
       "model_id": "c38ebe7142c54eecb5dd3216e5a99103",
       "version_major": 2,
       "version_minor": 0
      },
      "text/plain": [
       "HBox(children=(FloatProgress(value=0.0, max=127.0), HTML(value='')))"
      ]
     },
     "metadata": {},
     "output_type": "display_data"
    },
    {
     "name": "stdout",
     "output_type": "stream",
     "text": [
      "\n",
      "Loss: 1.4795 | IoU: 0.2962 | dice: 0.4356 | f2_score: 0.4689 | accuracy: 0.4127\n",
      "Starting epoch: 7 | phase: val | ⏰: 01:44:33\n"
     ]
    },
    {
     "data": {
      "application/vnd.jupyter.widget-view+json": {
       "model_id": "fe03976a7a854a38b6f4b45c12b2dc6d",
       "version_major": 2,
       "version_minor": 0
      },
      "text/plain": [
       "HBox(children=(FloatProgress(value=0.0, max=254.0), HTML(value='')))"
      ]
     },
     "metadata": {},
     "output_type": "display_data"
    },
    {
     "name": "stdout",
     "output_type": "stream",
     "text": [
      "\n",
      "Loss: 1.6835 | IoU: 0.9813 | dice: 0.3393 | f2_score: 0.3806 | accuracy: 0.3937\n",
      "* New optimal found according to dice, saving state *\n",
      "\n",
      "Starting epoch: 8 | phase: train | ⏰: 01:45:24\n"
     ]
    },
    {
     "data": {
      "application/vnd.jupyter.widget-view+json": {
       "model_id": "cb58668e2ab74985bd53988607ec3229",
       "version_major": 2,
       "version_minor": 0
      },
      "text/plain": [
       "HBox(children=(FloatProgress(value=0.0, max=127.0), HTML(value='')))"
      ]
     },
     "metadata": {},
     "output_type": "display_data"
    },
    {
     "name": "stdout",
     "output_type": "stream",
     "text": [
      "\n",
      "Loss: 1.5108 | IoU: 0.3227 | dice: 0.4779 | f2_score: 0.5237 | accuracy: 0.4012\n",
      "Starting epoch: 8 | phase: val | ⏰: 01:46:51\n"
     ]
    },
    {
     "data": {
      "application/vnd.jupyter.widget-view+json": {
       "model_id": "10c5c84884f342ea9ff665702177efb7",
       "version_major": 2,
       "version_minor": 0
      },
      "text/plain": [
       "HBox(children=(FloatProgress(value=0.0, max=254.0), HTML(value='')))"
      ]
     },
     "metadata": {},
     "output_type": "display_data"
    },
    {
     "name": "stdout",
     "output_type": "stream",
     "text": [
      "\n",
      "Loss: 1.4210 | IoU: 0.9841 | dice: 0.3291 | f2_score: 0.3733 | accuracy: 0.5079\n",
      "Epoch     9: reducing learning rate of group 0 to 5.0000e-04.\n",
      "\n",
      "Starting epoch: 9 | phase: train | ⏰: 01:47:20\n"
     ]
    },
    {
     "data": {
      "application/vnd.jupyter.widget-view+json": {
       "model_id": "bbe5bd0ef7a34df985bafcf923021722",
       "version_major": 2,
       "version_minor": 0
      },
      "text/plain": [
       "HBox(children=(FloatProgress(value=0.0, max=127.0), HTML(value='')))"
      ]
     },
     "metadata": {},
     "output_type": "display_data"
    },
    {
     "name": "stdout",
     "output_type": "stream",
     "text": [
      "\n",
      "Loss: 1.0100 | IoU: 0.3413 | dice: 0.4998 | f2_score: 0.5444 | accuracy: 0.5302\n",
      "Starting epoch: 9 | phase: val | ⏰: 01:48:46\n"
     ]
    },
    {
     "data": {
      "application/vnd.jupyter.widget-view+json": {
       "model_id": "a07839bb2c214ef2ab525003f351ea68",
       "version_major": 2,
       "version_minor": 0
      },
      "text/plain": [
       "HBox(children=(FloatProgress(value=0.0, max=254.0), HTML(value='')))"
      ]
     },
     "metadata": {},
     "output_type": "display_data"
    },
    {
     "name": "stdout",
     "output_type": "stream",
     "text": [
      "\n",
      "Loss: 0.8911 | IoU: 0.9831 | dice: 0.3640 | f2_score: 0.4149 | accuracy: 0.6299\n",
      "* New optimal found according to dice, saving state *\n",
      "* New optimal found according to accuracy, saving state *\n",
      "\n",
      "Starting epoch: 10 | phase: train | ⏰: 01:49:58\n"
     ]
    },
    {
     "data": {
      "application/vnd.jupyter.widget-view+json": {
       "model_id": "c6218a88de68424fb64fcaa8b53898ce",
       "version_major": 2,
       "version_minor": 0
      },
      "text/plain": [
       "HBox(children=(FloatProgress(value=0.0, max=127.0), HTML(value='')))"
      ]
     },
     "metadata": {},
     "output_type": "display_data"
    },
    {
     "name": "stdout",
     "output_type": "stream",
     "text": [
      "\n",
      "Loss: 0.8199 | IoU: 0.3624 | dice: 0.5232 | f2_score: 0.5655 | accuracy: 0.5505\n",
      "Starting epoch: 10 | phase: val | ⏰: 01:51:25\n"
     ]
    },
    {
     "data": {
      "application/vnd.jupyter.widget-view+json": {
       "model_id": "959481d04e17453a88d41739296647a5",
       "version_major": 2,
       "version_minor": 0
      },
      "text/plain": [
       "HBox(children=(FloatProgress(value=0.0, max=254.0), HTML(value='')))"
      ]
     },
     "metadata": {},
     "output_type": "display_data"
    },
    {
     "name": "stdout",
     "output_type": "stream",
     "text": [
      "\n",
      "Loss: 1.0658 | IoU: 0.9841 | dice: 0.3762 | f2_score: 0.4326 | accuracy: 0.5748\n",
      "* New optimal found according to dice, saving state *\n",
      "\n",
      "Starting epoch: 11 | phase: train | ⏰: 01:52:16\n"
     ]
    },
    {
     "data": {
      "application/vnd.jupyter.widget-view+json": {
       "model_id": "bdb3ffa96ada46eb8c26a6575a194a5d",
       "version_major": 2,
       "version_minor": 0
      },
      "text/plain": [
       "HBox(children=(FloatProgress(value=0.0, max=127.0), HTML(value='')))"
      ]
     },
     "metadata": {},
     "output_type": "display_data"
    },
    {
     "name": "stdout",
     "output_type": "stream",
     "text": [
      "\n",
      "Loss: 0.8306 | IoU: 0.3729 | dice: 0.5375 | f2_score: 0.5724 | accuracy: 0.5105\n",
      "Starting epoch: 11 | phase: val | ⏰: 01:53:43\n"
     ]
    },
    {
     "data": {
      "application/vnd.jupyter.widget-view+json": {
       "model_id": "a0d0ea08434e473599d49fdabffc62a9",
       "version_major": 2,
       "version_minor": 0
      },
      "text/plain": [
       "HBox(children=(FloatProgress(value=0.0, max=254.0), HTML(value='')))"
      ]
     },
     "metadata": {},
     "output_type": "display_data"
    },
    {
     "name": "stdout",
     "output_type": "stream",
     "text": [
      "\n",
      "Loss: 0.8903 | IoU: 0.9843 | dice: 0.3842 | f2_score: 0.4414 | accuracy: 0.5669\n",
      "* New optimal found according to dice, saving state *\n",
      "\n",
      "Starting epoch: 12 | phase: train | ⏰: 01:54:34\n"
     ]
    },
    {
     "data": {
      "application/vnd.jupyter.widget-view+json": {
       "model_id": "ffd9b24fb141438285dd966ee3f11488",
       "version_major": 2,
       "version_minor": 0
      },
      "text/plain": [
       "HBox(children=(FloatProgress(value=0.0, max=127.0), HTML(value='')))"
      ]
     },
     "metadata": {},
     "output_type": "display_data"
    },
    {
     "name": "stdout",
     "output_type": "stream",
     "text": [
      "\n",
      "Loss: 0.7965 | IoU: 0.3911 | dice: 0.5558 | f2_score: 0.5926 | accuracy: 0.5121\n",
      "Starting epoch: 12 | phase: val | ⏰: 01:56:01\n"
     ]
    },
    {
     "data": {
      "application/vnd.jupyter.widget-view+json": {
       "model_id": "0ae148e29f8546d2b01d7717380fb08b",
       "version_major": 2,
       "version_minor": 0
      },
      "text/plain": [
       "HBox(children=(FloatProgress(value=0.0, max=254.0), HTML(value='')))"
      ]
     },
     "metadata": {},
     "output_type": "display_data"
    },
    {
     "name": "stdout",
     "output_type": "stream",
     "text": [
      "\n",
      "Loss: 0.9642 | IoU: 0.9842 | dice: 0.3934 | f2_score: 0.4504 | accuracy: 0.5787\n",
      "* New optimal found according to dice, saving state *\n",
      "\n",
      "Starting epoch: 13 | phase: train | ⏰: 01:56:51\n"
     ]
    },
    {
     "data": {
      "application/vnd.jupyter.widget-view+json": {
       "model_id": "cde1dc774e564eb1aabe426d43ed6ba4",
       "version_major": 2,
       "version_minor": 0
      },
      "text/plain": [
       "HBox(children=(FloatProgress(value=0.0, max=127.0), HTML(value='')))"
      ]
     },
     "metadata": {},
     "output_type": "display_data"
    },
    {
     "name": "stdout",
     "output_type": "stream",
     "text": [
      "\n",
      "Loss: 0.7337 | IoU: 0.4010 | dice: 0.5650 | f2_score: 0.6042 | accuracy: 0.5443\n",
      "Starting epoch: 13 | phase: val | ⏰: 01:58:18\n"
     ]
    },
    {
     "data": {
      "application/vnd.jupyter.widget-view+json": {
       "model_id": "813d943a59c44409925fcac624155bd3",
       "version_major": 2,
       "version_minor": 0
      },
      "text/plain": [
       "HBox(children=(FloatProgress(value=0.0, max=254.0), HTML(value='')))"
      ]
     },
     "metadata": {},
     "output_type": "display_data"
    },
    {
     "name": "stdout",
     "output_type": "stream",
     "text": [
      "\n",
      "Loss: 0.8929 | IoU: 0.9828 | dice: 0.4020 | f2_score: 0.4622 | accuracy: 0.5472\n",
      "* New optimal found according to dice, saving state *\n",
      "\n",
      "Starting epoch: 14 | phase: train | ⏰: 01:59:08\n"
     ]
    },
    {
     "data": {
      "application/vnd.jupyter.widget-view+json": {
       "model_id": "ca26118e212744ababbb17dd1a912fe5",
       "version_major": 2,
       "version_minor": 0
      },
      "text/plain": [
       "HBox(children=(FloatProgress(value=0.0, max=127.0), HTML(value='')))"
      ]
     },
     "metadata": {},
     "output_type": "display_data"
    },
    {
     "name": "stdout",
     "output_type": "stream",
     "text": [
      "\n",
      "Loss: 0.7112 | IoU: 0.4105 | dice: 0.5772 | f2_score: 0.6218 | accuracy: 0.5581\n",
      "Starting epoch: 14 | phase: val | ⏰: 02:00:37\n"
     ]
    },
    {
     "data": {
      "application/vnd.jupyter.widget-view+json": {
       "model_id": "cfb7f0641f5c4c21bf6bba94c4a0eeae",
       "version_major": 2,
       "version_minor": 0
      },
      "text/plain": [
       "HBox(children=(FloatProgress(value=0.0, max=254.0), HTML(value='')))"
      ]
     },
     "metadata": {},
     "output_type": "display_data"
    },
    {
     "name": "stdout",
     "output_type": "stream",
     "text": [
      "\n",
      "Loss: 1.0294 | IoU: 0.9828 | dice: 0.4150 | f2_score: 0.4761 | accuracy: 0.4921\n",
      "* New optimal found according to dice, saving state *\n",
      "\n",
      "Starting epoch: 15 | phase: train | ⏰: 02:01:29\n"
     ]
    },
    {
     "data": {
      "application/vnd.jupyter.widget-view+json": {
       "model_id": "65d923595bfb470497304d1b4e6be260",
       "version_major": 2,
       "version_minor": 0
      },
      "text/plain": [
       "HBox(children=(FloatProgress(value=0.0, max=127.0), HTML(value='')))"
      ]
     },
     "metadata": {},
     "output_type": "display_data"
    },
    {
     "name": "stdout",
     "output_type": "stream",
     "text": [
      "\n",
      "Loss: 0.7402 | IoU: 0.4253 | dice: 0.5892 | f2_score: 0.6326 | accuracy: 0.4823\n",
      "Starting epoch: 15 | phase: val | ⏰: 02:02:57\n"
     ]
    },
    {
     "data": {
      "application/vnd.jupyter.widget-view+json": {
       "model_id": "4445f0f51e5e462faecab6de5555774d",
       "version_major": 2,
       "version_minor": 0
      },
      "text/plain": [
       "HBox(children=(FloatProgress(value=0.0, max=254.0), HTML(value='')))"
      ]
     },
     "metadata": {},
     "output_type": "display_data"
    },
    {
     "name": "stdout",
     "output_type": "stream",
     "text": [
      "\n",
      "Loss: 0.9288 | IoU: 0.9837 | dice: 0.4246 | f2_score: 0.4895 | accuracy: 0.5354\n",
      "* New optimal found according to dice, saving state *\n",
      "\n",
      "Starting epoch: 16 | phase: train | ⏰: 02:03:48\n"
     ]
    },
    {
     "data": {
      "application/vnd.jupyter.widget-view+json": {
       "model_id": "5b3ca58edc6e446b9ded2d0558415f30",
       "version_major": 2,
       "version_minor": 0
      },
      "text/plain": [
       "HBox(children=(FloatProgress(value=0.0, max=127.0), HTML(value='')))"
      ]
     },
     "metadata": {},
     "output_type": "display_data"
    },
    {
     "name": "stdout",
     "output_type": "stream",
     "text": [
      "\n",
      "Loss: 0.7169 | IoU: 0.4385 | dice: 0.6033 | f2_score: 0.6484 | accuracy: 0.4882\n",
      "Starting epoch: 16 | phase: val | ⏰: 02:05:17\n"
     ]
    },
    {
     "data": {
      "application/vnd.jupyter.widget-view+json": {
       "model_id": "37e3c6075fc24d2fbd371e8aa8ef16f4",
       "version_major": 2,
       "version_minor": 0
      },
      "text/plain": [
       "HBox(children=(FloatProgress(value=0.0, max=254.0), HTML(value='')))"
      ]
     },
     "metadata": {},
     "output_type": "display_data"
    },
    {
     "name": "stdout",
     "output_type": "stream",
     "text": [
      "\n",
      "Loss: 1.5280 | IoU: 0.9815 | dice: 0.4327 | f2_score: 0.4949 | accuracy: 0.5197\n",
      "Epoch    17: reducing learning rate of group 0 to 2.5000e-04.\n",
      "* New optimal found according to dice, saving state *\n",
      "\n",
      "Starting epoch: 17 | phase: train | ⏰: 02:06:08\n"
     ]
    },
    {
     "data": {
      "application/vnd.jupyter.widget-view+json": {
       "model_id": "3391ad2242bc4a5b909e07bc06d1f2ea",
       "version_major": 2,
       "version_minor": 0
      },
      "text/plain": [
       "HBox(children=(FloatProgress(value=0.0, max=127.0), HTML(value='')))"
      ]
     },
     "metadata": {},
     "output_type": "display_data"
    },
    {
     "name": "stdout",
     "output_type": "stream",
     "text": [
      "\n",
      "Loss: 0.6693 | IoU: 0.4522 | dice: 0.6177 | f2_score: 0.6596 | accuracy: 0.5407\n",
      "Starting epoch: 17 | phase: val | ⏰: 02:07:36\n"
     ]
    },
    {
     "data": {
      "application/vnd.jupyter.widget-view+json": {
       "model_id": "8e4d58c0f07c4cd994d1e6648c13638a",
       "version_major": 2,
       "version_minor": 0
      },
      "text/plain": [
       "HBox(children=(FloatProgress(value=0.0, max=254.0), HTML(value='')))"
      ]
     },
     "metadata": {},
     "output_type": "display_data"
    },
    {
     "name": "stdout",
     "output_type": "stream",
     "text": [
      "\n",
      "Loss: 0.8700 | IoU: 0.9846 | dice: 0.4302 | f2_score: 0.4974 | accuracy: 0.5039\n",
      "\n",
      "Starting epoch: 18 | phase: train | ⏰: 02:08:07\n"
     ]
    },
    {
     "data": {
      "application/vnd.jupyter.widget-view+json": {
       "model_id": "873975c550644a8b9d1c0e9acc1c03eb",
       "version_major": 2,
       "version_minor": 0
      },
      "text/plain": [
       "HBox(children=(FloatProgress(value=0.0, max=127.0), HTML(value='')))"
      ]
     },
     "metadata": {},
     "output_type": "display_data"
    },
    {
     "name": "stdout",
     "output_type": "stream",
     "text": [
      "\n",
      "Loss: 0.5188 | IoU: 0.4604 | dice: 0.6252 | f2_score: 0.6680 | accuracy: 0.5322\n",
      "Starting epoch: 18 | phase: val | ⏰: 02:09:36\n"
     ]
    },
    {
     "data": {
      "application/vnd.jupyter.widget-view+json": {
       "model_id": "4dd5dc93883a482ebb7172b51f1bf6d1",
       "version_major": 2,
       "version_minor": 0
      },
      "text/plain": [
       "HBox(children=(FloatProgress(value=0.0, max=254.0), HTML(value='')))"
      ]
     },
     "metadata": {},
     "output_type": "display_data"
    },
    {
     "name": "stdout",
     "output_type": "stream",
     "text": [
      "\n",
      "Loss: 0.8468 | IoU: 0.9845 | dice: 0.4365 | f2_score: 0.5062 | accuracy: 0.5197\n",
      "* New optimal found according to dice, saving state *\n",
      "\n",
      "Starting epoch: 19 | phase: train | ⏰: 02:10:27\n"
     ]
    },
    {
     "data": {
      "application/vnd.jupyter.widget-view+json": {
       "model_id": "6e70cb3c9ae543afabad7c35f41b51ce",
       "version_major": 2,
       "version_minor": 0
      },
      "text/plain": [
       "HBox(children=(FloatProgress(value=0.0, max=127.0), HTML(value='')))"
      ]
     },
     "metadata": {},
     "output_type": "display_data"
    },
    {
     "name": "stdout",
     "output_type": "stream",
     "text": [
      "\n",
      "Loss: 0.5156 | IoU: 0.4653 | dice: 0.6302 | f2_score: 0.6727 | accuracy: 0.5151\n",
      "Starting epoch: 19 | phase: val | ⏰: 02:11:54\n"
     ]
    },
    {
     "data": {
      "application/vnd.jupyter.widget-view+json": {
       "model_id": "95360c60a2ec40e3980475efa2eb7307",
       "version_major": 2,
       "version_minor": 0
      },
      "text/plain": [
       "HBox(children=(FloatProgress(value=0.0, max=254.0), HTML(value='')))"
      ]
     },
     "metadata": {},
     "output_type": "display_data"
    },
    {
     "name": "stdout",
     "output_type": "stream",
     "text": [
      "\n",
      "Loss: 0.7636 | IoU: 0.9866 | dice: 0.4356 | f2_score: 0.5040 | accuracy: 0.5000\n",
      "\n",
      "Starting epoch: 20 | phase: train | ⏰: 02:12:25\n"
     ]
    },
    {
     "data": {
      "application/vnd.jupyter.widget-view+json": {
       "model_id": "3ebfa587dea5463b9327840a12b08e61",
       "version_major": 2,
       "version_minor": 0
      },
      "text/plain": [
       "HBox(children=(FloatProgress(value=0.0, max=127.0), HTML(value='')))"
      ]
     },
     "metadata": {},
     "output_type": "display_data"
    },
    {
     "name": "stdout",
     "output_type": "stream",
     "text": [
      "\n",
      "Loss: 0.4700 | IoU: 0.4730 | dice: 0.6372 | f2_score: 0.6789 | accuracy: 0.5184\n",
      "Starting epoch: 20 | phase: val | ⏰: 02:13:50\n"
     ]
    },
    {
     "data": {
      "application/vnd.jupyter.widget-view+json": {
       "model_id": "a69a7fa480b14f7ca2257825257ca540",
       "version_major": 2,
       "version_minor": 0
      },
      "text/plain": [
       "HBox(children=(FloatProgress(value=0.0, max=254.0), HTML(value='')))"
      ]
     },
     "metadata": {},
     "output_type": "display_data"
    },
    {
     "name": "stdout",
     "output_type": "stream",
     "text": [
      "\n",
      "Loss: 0.8213 | IoU: 0.9851 | dice: 0.4486 | f2_score: 0.5212 | accuracy: 0.4961\n",
      "* New optimal found according to dice, saving state *\n",
      "\n",
      "Starting epoch: 21 | phase: train | ⏰: 02:14:40\n"
     ]
    },
    {
     "data": {
      "application/vnd.jupyter.widget-view+json": {
       "model_id": "52b1e7aa731f4cc1ac33f4f76d51e634",
       "version_major": 2,
       "version_minor": 0
      },
      "text/plain": [
       "HBox(children=(FloatProgress(value=0.0, max=127.0), HTML(value='')))"
      ]
     },
     "metadata": {},
     "output_type": "display_data"
    },
    {
     "name": "stdout",
     "output_type": "stream",
     "text": [
      "\n",
      "Loss: 0.4966 | IoU: 0.4798 | dice: 0.6447 | f2_score: 0.6853 | accuracy: 0.5085\n",
      "Starting epoch: 21 | phase: val | ⏰: 02:16:05\n"
     ]
    },
    {
     "data": {
      "application/vnd.jupyter.widget-view+json": {
       "model_id": "799e44744753440bb699b2176a611057",
       "version_major": 2,
       "version_minor": 0
      },
      "text/plain": [
       "HBox(children=(FloatProgress(value=0.0, max=254.0), HTML(value='')))"
      ]
     },
     "metadata": {},
     "output_type": "display_data"
    },
    {
     "name": "stdout",
     "output_type": "stream",
     "text": [
      "\n",
      "Loss: 0.8173 | IoU: 0.9851 | dice: 0.4473 | f2_score: 0.5192 | accuracy: 0.5118\n",
      "\n",
      "Starting epoch: 22 | phase: train | ⏰: 02:16:35\n"
     ]
    },
    {
     "data": {
      "application/vnd.jupyter.widget-view+json": {
       "model_id": "2a4e6a51cedc46d3a05db806887c1dfc",
       "version_major": 2,
       "version_minor": 0
      },
      "text/plain": [
       "HBox(children=(FloatProgress(value=0.0, max=127.0), HTML(value='')))"
      ]
     },
     "metadata": {},
     "output_type": "display_data"
    },
    {
     "name": "stdout",
     "output_type": "stream",
     "text": [
      "\n",
      "Loss: 0.4844 | IoU: 0.4866 | dice: 0.6504 | f2_score: 0.6936 | accuracy: 0.5390\n",
      "Starting epoch: 22 | phase: val | ⏰: 02:17:59\n"
     ]
    },
    {
     "data": {
      "application/vnd.jupyter.widget-view+json": {
       "model_id": "3aa06a1982c74f7a9f2aa733389cc868",
       "version_major": 2,
       "version_minor": 0
      },
      "text/plain": [
       "HBox(children=(FloatProgress(value=0.0, max=254.0), HTML(value='')))"
      ]
     },
     "metadata": {},
     "output_type": "display_data"
    },
    {
     "name": "stdout",
     "output_type": "stream",
     "text": [
      "\n",
      "Loss: 0.7918 | IoU: 0.9853 | dice: 0.4498 | f2_score: 0.5211 | accuracy: 0.5000\n",
      "* New optimal found according to dice, saving state *\n",
      "\n",
      "Starting epoch: 23 | phase: train | ⏰: 02:18:49\n"
     ]
    },
    {
     "data": {
      "application/vnd.jupyter.widget-view+json": {
       "model_id": "0295bf5bb63a4f7489d3d7d0c7883501",
       "version_major": 2,
       "version_minor": 0
      },
      "text/plain": [
       "HBox(children=(FloatProgress(value=0.0, max=127.0), HTML(value='')))"
      ]
     },
     "metadata": {},
     "output_type": "display_data"
    },
    {
     "name": "stdout",
     "output_type": "stream",
     "text": [
      "\n",
      "Loss: 0.4546 | IoU: 0.4890 | dice: 0.6525 | f2_score: 0.6937 | accuracy: 0.5007\n",
      "Starting epoch: 23 | phase: val | ⏰: 02:20:14\n"
     ]
    },
    {
     "data": {
      "application/vnd.jupyter.widget-view+json": {
       "model_id": "73a9ecec026b49a48e782bff1c27a8d8",
       "version_major": 2,
       "version_minor": 0
      },
      "text/plain": [
       "HBox(children=(FloatProgress(value=0.0, max=254.0), HTML(value='')))"
      ]
     },
     "metadata": {},
     "output_type": "display_data"
    },
    {
     "name": "stdout",
     "output_type": "stream",
     "text": [
      "\n",
      "Loss: 0.7839 | IoU: 0.9858 | dice: 0.4587 | f2_score: 0.5329 | accuracy: 0.4646\n",
      "* New optimal found according to dice, saving state *\n",
      "\n",
      "Starting epoch: 24 | phase: train | ⏰: 02:21:03\n"
     ]
    },
    {
     "data": {
      "application/vnd.jupyter.widget-view+json": {
       "model_id": "a05623cda21645448ef85a5868d61a90",
       "version_major": 2,
       "version_minor": 0
      },
      "text/plain": [
       "HBox(children=(FloatProgress(value=0.0, max=127.0), HTML(value='')))"
      ]
     },
     "metadata": {},
     "output_type": "display_data"
    },
    {
     "name": "stdout",
     "output_type": "stream",
     "text": [
      "\n",
      "Loss: 0.4790 | IoU: 0.4950 | dice: 0.6594 | f2_score: 0.6997 | accuracy: 0.5046\n",
      "Starting epoch: 24 | phase: val | ⏰: 02:22:27\n"
     ]
    },
    {
     "data": {
      "application/vnd.jupyter.widget-view+json": {
       "model_id": "ce399d1f96da4ae78b92005071df263c",
       "version_major": 2,
       "version_minor": 0
      },
      "text/plain": [
       "HBox(children=(FloatProgress(value=0.0, max=254.0), HTML(value='')))"
      ]
     },
     "metadata": {},
     "output_type": "display_data"
    },
    {
     "name": "stdout",
     "output_type": "stream",
     "text": [
      "\n",
      "Loss: 0.7689 | IoU: 0.9854 | dice: 0.4638 | f2_score: 0.5386 | accuracy: 0.4764\n",
      "Epoch    25: reducing learning rate of group 0 to 1.2500e-04.\n",
      "* New optimal found according to dice, saving state *\n",
      "\n",
      "Starting epoch: 25 | phase: train | ⏰: 02:23:17\n"
     ]
    },
    {
     "data": {
      "application/vnd.jupyter.widget-view+json": {
       "model_id": "5fa56e3c063c405badfcec5780b16f18",
       "version_major": 2,
       "version_minor": 0
      },
      "text/plain": [
       "HBox(children=(FloatProgress(value=0.0, max=127.0), HTML(value='')))"
      ]
     },
     "metadata": {},
     "output_type": "display_data"
    },
    {
     "name": "stdout",
     "output_type": "stream",
     "text": [
      "\n",
      "Loss: 0.4292 | IoU: 0.5070 | dice: 0.6694 | f2_score: 0.7111 | accuracy: 0.4682\n",
      "Starting epoch: 25 | phase: val | ⏰: 02:24:41\n"
     ]
    },
    {
     "data": {
      "application/vnd.jupyter.widget-view+json": {
       "model_id": "2089a3ac5a744a6d9188d9acaf07bef4",
       "version_major": 2,
       "version_minor": 0
      },
      "text/plain": [
       "HBox(children=(FloatProgress(value=0.0, max=254.0), HTML(value='')))"
      ]
     },
     "metadata": {},
     "output_type": "display_data"
    },
    {
     "name": "stdout",
     "output_type": "stream",
     "text": [
      "\n",
      "Loss: 0.7652 | IoU: 0.9850 | dice: 0.4676 | f2_score: 0.5430 | accuracy: 0.4606\n",
      "* New optimal found according to dice, saving state *\n",
      "\n",
      "Starting epoch: 26 | phase: train | ⏰: 02:25:31\n"
     ]
    },
    {
     "data": {
      "application/vnd.jupyter.widget-view+json": {
       "model_id": "127560d9d8ef4d0693945ef6b9e58cc2",
       "version_major": 2,
       "version_minor": 0
      },
      "text/plain": [
       "HBox(children=(FloatProgress(value=0.0, max=127.0), HTML(value='')))"
      ]
     },
     "metadata": {},
     "output_type": "display_data"
    },
    {
     "name": "stdout",
     "output_type": "stream",
     "text": [
      "\n",
      "Loss: 0.4416 | IoU: 0.5087 | dice: 0.6719 | f2_score: 0.7137 | accuracy: 0.4731\n",
      "Starting epoch: 26 | phase: val | ⏰: 02:26:55\n"
     ]
    },
    {
     "data": {
      "application/vnd.jupyter.widget-view+json": {
       "model_id": "49b407858bbb47e59a06d010f142d665",
       "version_major": 2,
       "version_minor": 0
      },
      "text/plain": [
       "HBox(children=(FloatProgress(value=0.0, max=254.0), HTML(value='')))"
      ]
     },
     "metadata": {},
     "output_type": "display_data"
    },
    {
     "name": "stdout",
     "output_type": "stream",
     "text": [
      "\n",
      "Loss: 0.7647 | IoU: 0.9851 | dice: 0.4699 | f2_score: 0.5461 | accuracy: 0.4567\n",
      "* New optimal found according to dice, saving state *\n",
      "\n",
      "Starting epoch: 27 | phase: train | ⏰: 02:27:45\n"
     ]
    },
    {
     "data": {
      "application/vnd.jupyter.widget-view+json": {
       "model_id": "86ae58534c4a4b4e98049904ddb738fe",
       "version_major": 2,
       "version_minor": 0
      },
      "text/plain": [
       "HBox(children=(FloatProgress(value=0.0, max=127.0), HTML(value='')))"
      ]
     },
     "metadata": {},
     "output_type": "display_data"
    },
    {
     "name": "stdout",
     "output_type": "stream",
     "text": [
      "\n",
      "Loss: 0.4062 | IoU: 0.5102 | dice: 0.6732 | f2_score: 0.7135 | accuracy: 0.4908\n",
      "Starting epoch: 27 | phase: val | ⏰: 02:29:10\n"
     ]
    },
    {
     "data": {
      "application/vnd.jupyter.widget-view+json": {
       "model_id": "576d1fa10b85412ab5d707d6974db1d8",
       "version_major": 2,
       "version_minor": 0
      },
      "text/plain": [
       "HBox(children=(FloatProgress(value=0.0, max=254.0), HTML(value='')))"
      ]
     },
     "metadata": {},
     "output_type": "display_data"
    },
    {
     "name": "stdout",
     "output_type": "stream",
     "text": [
      "\n",
      "Loss: 0.7433 | IoU: 0.9848 | dice: 0.4729 | f2_score: 0.5492 | accuracy: 0.4567\n",
      "* New optimal found according to dice, saving state *\n",
      "\n",
      "Starting epoch: 28 | phase: train | ⏰: 02:29:59\n"
     ]
    },
    {
     "data": {
      "application/vnd.jupyter.widget-view+json": {
       "model_id": "8726eeaaceac47029adbdbc7c4516227",
       "version_major": 2,
       "version_minor": 0
      },
      "text/plain": [
       "HBox(children=(FloatProgress(value=0.0, max=127.0), HTML(value='')))"
      ]
     },
     "metadata": {},
     "output_type": "display_data"
    },
    {
     "name": "stdout",
     "output_type": "stream",
     "text": [
      "\n",
      "Loss: 0.4164 | IoU: 0.5124 | dice: 0.6771 | f2_score: 0.7198 | accuracy: 0.5171\n",
      "Starting epoch: 28 | phase: val | ⏰: 02:31:24\n"
     ]
    },
    {
     "data": {
      "application/vnd.jupyter.widget-view+json": {
       "model_id": "fceee9ada2194c95ab8da63b55ce9027",
       "version_major": 2,
       "version_minor": 0
      },
      "text/plain": [
       "HBox(children=(FloatProgress(value=0.0, max=254.0), HTML(value='')))"
      ]
     },
     "metadata": {},
     "output_type": "display_data"
    },
    {
     "name": "stdout",
     "output_type": "stream",
     "text": [
      "\n",
      "Loss: 0.7189 | IoU: 0.9859 | dice: 0.4714 | f2_score: 0.5485 | accuracy: 0.5039\n",
      "\n",
      "Starting epoch: 29 | phase: train | ⏰: 02:31:53\n"
     ]
    },
    {
     "data": {
      "application/vnd.jupyter.widget-view+json": {
       "model_id": "734af143f1974a8b81387df735f86a50",
       "version_major": 2,
       "version_minor": 0
      },
      "text/plain": [
       "HBox(children=(FloatProgress(value=0.0, max=127.0), HTML(value='')))"
      ]
     },
     "metadata": {},
     "output_type": "display_data"
    },
    {
     "name": "stdout",
     "output_type": "stream",
     "text": [
      "\n",
      "Loss: 0.4181 | IoU: 0.5129 | dice: 0.6758 | f2_score: 0.7181 | accuracy: 0.5200\n",
      "Starting epoch: 29 | phase: val | ⏰: 02:33:18\n"
     ]
    },
    {
     "data": {
      "application/vnd.jupyter.widget-view+json": {
       "model_id": "66ffd185d72a4189916d381aa0b3deba",
       "version_major": 2,
       "version_minor": 0
      },
      "text/plain": [
       "HBox(children=(FloatProgress(value=0.0, max=254.0), HTML(value='')))"
      ]
     },
     "metadata": {},
     "output_type": "display_data"
    },
    {
     "name": "stdout",
     "output_type": "stream",
     "text": [
      "\n",
      "Loss: 0.7436 | IoU: 0.9856 | dice: 0.4761 | f2_score: 0.5537 | accuracy: 0.4843\n",
      "* New optimal found according to dice, saving state *\n",
      "\n",
      "Starting epoch: 30 | phase: train | ⏰: 02:34:08\n"
     ]
    },
    {
     "data": {
      "application/vnd.jupyter.widget-view+json": {
       "model_id": "16ae4d7ee1404dbe9fdcfbba5086a4ad",
       "version_major": 2,
       "version_minor": 0
      },
      "text/plain": [
       "HBox(children=(FloatProgress(value=0.0, max=127.0), HTML(value='')))"
      ]
     },
     "metadata": {},
     "output_type": "display_data"
    },
    {
     "name": "stdout",
     "output_type": "stream",
     "text": [
      "\n",
      "Loss: 0.4172 | IoU: 0.5193 | dice: 0.6811 | f2_score: 0.7231 | accuracy: 0.5023\n",
      "Starting epoch: 30 | phase: val | ⏰: 02:35:32\n"
     ]
    },
    {
     "data": {
      "application/vnd.jupyter.widget-view+json": {
       "model_id": "4d3d4307c43e42ba8ef858fdfc341df8",
       "version_major": 2,
       "version_minor": 0
      },
      "text/plain": [
       "HBox(children=(FloatProgress(value=0.0, max=254.0), HTML(value='')))"
      ]
     },
     "metadata": {},
     "output_type": "display_data"
    },
    {
     "name": "stdout",
     "output_type": "stream",
     "text": [
      "\n",
      "Loss: 0.7239 | IoU: 0.9858 | dice: 0.4779 | f2_score: 0.5559 | accuracy: 0.4803\n",
      "* New optimal found according to dice, saving state *\n",
      "\n",
      "Starting epoch: 31 | phase: train | ⏰: 02:36:22\n"
     ]
    },
    {
     "data": {
      "application/vnd.jupyter.widget-view+json": {
       "model_id": "f796e3c7b406481e8e5f330be51dde68",
       "version_major": 2,
       "version_minor": 0
      },
      "text/plain": [
       "HBox(children=(FloatProgress(value=0.0, max=127.0), HTML(value='')))"
      ]
     },
     "metadata": {},
     "output_type": "display_data"
    },
    {
     "name": "stdout",
     "output_type": "stream",
     "text": [
      "\n",
      "Starting epoch: 32 | phase: train | ⏰: 02:38:35\n"
     ]
    },
    {
     "data": {
      "application/vnd.jupyter.widget-view+json": {
       "model_id": "5effd5dc10df401ea4a8b1f8a640f326",
       "version_major": 2,
       "version_minor": 0
      },
      "text/plain": [
       "HBox(children=(FloatProgress(value=0.0, max=127.0), HTML(value='')))"
      ]
     },
     "metadata": {},
     "output_type": "display_data"
    },
    {
     "name": "stdout",
     "output_type": "stream",
     "text": [
      "\n",
      "Loss: 0.4274 | IoU: 0.5242 | dice: 0.6859 | f2_score: 0.7273 | accuracy: 0.4997\n",
      "Starting epoch: 32 | phase: val | ⏰: 02:39:59\n"
     ]
    },
    {
     "data": {
      "application/vnd.jupyter.widget-view+json": {
       "model_id": "54e2317eec0843a3b4feb7ba14e3fafe",
       "version_major": 2,
       "version_minor": 0
      },
      "text/plain": [
       "HBox(children=(FloatProgress(value=0.0, max=254.0), HTML(value='')))"
      ]
     },
     "metadata": {},
     "output_type": "display_data"
    },
    {
     "name": "stdout",
     "output_type": "stream",
     "text": [
      "\n",
      "Loss: 0.7392 | IoU: 0.9851 | dice: 0.4792 | f2_score: 0.5566 | accuracy: 0.4921\n",
      "* New optimal found according to dice, saving state *\n",
      "\n",
      "Starting epoch: 33 | phase: train | ⏰: 02:40:48\n"
     ]
    },
    {
     "data": {
      "application/vnd.jupyter.widget-view+json": {
       "model_id": "c77195b9656942fdbd8d273dd2dba215",
       "version_major": 2,
       "version_minor": 0
      },
      "text/plain": [
       "HBox(children=(FloatProgress(value=0.0, max=127.0), HTML(value='')))"
      ]
     },
     "metadata": {},
     "output_type": "display_data"
    },
    {
     "name": "stdout",
     "output_type": "stream",
     "text": [
      "\n",
      "Loss: 0.4033 | IoU: 0.5245 | dice: 0.6857 | f2_score: 0.7259 | accuracy: 0.5184\n",
      "Starting epoch: 33 | phase: val | ⏰: 02:42:12\n"
     ]
    },
    {
     "data": {
      "application/vnd.jupyter.widget-view+json": {
       "model_id": "a44eab6af424482fa8056200cdc7fbf6",
       "version_major": 2,
       "version_minor": 0
      },
      "text/plain": [
       "HBox(children=(FloatProgress(value=0.0, max=254.0), HTML(value='')))"
      ]
     },
     "metadata": {},
     "output_type": "display_data"
    },
    {
     "name": "stdout",
     "output_type": "stream",
     "text": [
      "\n",
      "Loss: 0.7195 | IoU: 0.9861 | dice: 0.4774 | f2_score: 0.5553 | accuracy: 0.4685\n",
      "Epoch    34: reducing learning rate of group 0 to 6.2500e-05.\n",
      "\n",
      "Starting epoch: 34 | phase: train | ⏰: 02:42:41\n"
     ]
    },
    {
     "data": {
      "application/vnd.jupyter.widget-view+json": {
       "model_id": "8c0fc6fd6cd546edb4a6bde3c623dc55",
       "version_major": 2,
       "version_minor": 0
      },
      "text/plain": [
       "HBox(children=(FloatProgress(value=0.0, max=127.0), HTML(value='')))"
      ]
     },
     "metadata": {},
     "output_type": "display_data"
    },
    {
     "name": "stdout",
     "output_type": "stream",
     "text": [
      "\n",
      "Loss: 0.3841 | IoU: 0.5277 | dice: 0.6887 | f2_score: 0.7313 | accuracy: 0.4954\n",
      "Starting epoch: 34 | phase: val | ⏰: 02:44:05\n"
     ]
    },
    {
     "data": {
      "application/vnd.jupyter.widget-view+json": {
       "model_id": "703dd7b9284b4004817fb41571ab9d5e",
       "version_major": 2,
       "version_minor": 0
      },
      "text/plain": [
       "HBox(children=(FloatProgress(value=0.0, max=254.0), HTML(value='')))"
      ]
     },
     "metadata": {},
     "output_type": "display_data"
    },
    {
     "name": "stdout",
     "output_type": "stream",
     "text": [
      "\n",
      "Loss: 0.7180 | IoU: 0.9857 | dice: 0.4844 | f2_score: 0.5636 | accuracy: 0.4803\n",
      "* New optimal found according to dice, saving state *\n",
      "\n",
      "Starting epoch: 35 | phase: train | ⏰: 02:44:55\n"
     ]
    },
    {
     "data": {
      "application/vnd.jupyter.widget-view+json": {
       "model_id": "63021cd0c26346068ca6a5b0024ca548",
       "version_major": 2,
       "version_minor": 0
      },
      "text/plain": [
       "HBox(children=(FloatProgress(value=0.0, max=127.0), HTML(value='')))"
      ]
     },
     "metadata": {},
     "output_type": "display_data"
    },
    {
     "name": "stdout",
     "output_type": "stream",
     "text": [
      "\n",
      "Loss: 0.3741 | IoU: 0.5338 | dice: 0.6945 | f2_score: 0.7354 | accuracy: 0.5125\n",
      "Starting epoch: 35 | phase: val | ⏰: 02:46:19\n"
     ]
    },
    {
     "data": {
      "application/vnd.jupyter.widget-view+json": {
       "model_id": "dec1a50e1f064076a3803740d6430eb1",
       "version_major": 2,
       "version_minor": 0
      },
      "text/plain": [
       "HBox(children=(FloatProgress(value=0.0, max=254.0), HTML(value='')))"
      ]
     },
     "metadata": {},
     "output_type": "display_data"
    },
    {
     "name": "stdout",
     "output_type": "stream",
     "text": [
      "\n",
      "Loss: 0.7081 | IoU: 0.9858 | dice: 0.4841 | f2_score: 0.5632 | accuracy: 0.4764\n",
      "\n",
      "Starting epoch: 36 | phase: train | ⏰: 02:46:48\n"
     ]
    },
    {
     "data": {
      "application/vnd.jupyter.widget-view+json": {
       "model_id": "4562f88927e6486ea55abd32608e09bd",
       "version_major": 2,
       "version_minor": 0
      },
      "text/plain": [
       "HBox(children=(FloatProgress(value=0.0, max=127.0), HTML(value='')))"
      ]
     },
     "metadata": {},
     "output_type": "display_data"
    },
    {
     "name": "stdout",
     "output_type": "stream",
     "text": [
      "\n",
      "Loss: 0.3776 | IoU: 0.5269 | dice: 0.6883 | f2_score: 0.7299 | accuracy: 0.5105\n",
      "Starting epoch: 36 | phase: val | ⏰: 02:48:11\n"
     ]
    },
    {
     "data": {
      "application/vnd.jupyter.widget-view+json": {
       "model_id": "f70a538c3f284d0197d697f6f74ce981",
       "version_major": 2,
       "version_minor": 0
      },
      "text/plain": [
       "HBox(children=(FloatProgress(value=0.0, max=254.0), HTML(value='')))"
      ]
     },
     "metadata": {},
     "output_type": "display_data"
    },
    {
     "name": "stdout",
     "output_type": "stream",
     "text": [
      "\n",
      "Loss: 0.7083 | IoU: 0.9860 | dice: 0.4851 | f2_score: 0.5645 | accuracy: 0.4882\n",
      "* New optimal found according to dice, saving state *\n",
      "\n",
      "Starting epoch: 37 | phase: train | ⏰: 02:49:01\n"
     ]
    },
    {
     "data": {
      "application/vnd.jupyter.widget-view+json": {
       "model_id": "24028757b09c4ab89befa745acf6cfa6",
       "version_major": 2,
       "version_minor": 0
      },
      "text/plain": [
       "HBox(children=(FloatProgress(value=0.0, max=127.0), HTML(value='')))"
      ]
     },
     "metadata": {},
     "output_type": "display_data"
    },
    {
     "name": "stdout",
     "output_type": "stream",
     "text": [
      "\n",
      "Loss: 0.3800 | IoU: 0.5311 | dice: 0.6929 | f2_score: 0.7345 | accuracy: 0.5003\n",
      "Starting epoch: 37 | phase: val | ⏰: 02:50:26\n"
     ]
    },
    {
     "data": {
      "application/vnd.jupyter.widget-view+json": {
       "model_id": "1e42d0d4eddb4fd59693b047fa6a65b3",
       "version_major": 2,
       "version_minor": 0
      },
      "text/plain": [
       "HBox(children=(FloatProgress(value=0.0, max=254.0), HTML(value='')))"
      ]
     },
     "metadata": {},
     "output_type": "display_data"
    },
    {
     "name": "stdout",
     "output_type": "stream",
     "text": [
      "\n",
      "Loss: 0.6898 | IoU: 0.9859 | dice: 0.4857 | f2_score: 0.5651 | accuracy: 0.4528\n",
      "* New optimal found according to dice, saving state *\n",
      "\n",
      "Starting epoch: 38 | phase: train | ⏰: 02:51:16\n"
     ]
    },
    {
     "data": {
      "application/vnd.jupyter.widget-view+json": {
       "model_id": "94695041296f4a05bf809910f08dad6f",
       "version_major": 2,
       "version_minor": 0
      },
      "text/plain": [
       "HBox(children=(FloatProgress(value=0.0, max=127.0), HTML(value='')))"
      ]
     },
     "metadata": {},
     "output_type": "display_data"
    },
    {
     "name": "stdout",
     "output_type": "stream",
     "text": [
      "\n",
      "Loss: 0.3787 | IoU: 0.5346 | dice: 0.6947 | f2_score: 0.7359 | accuracy: 0.5128\n",
      "Starting epoch: 38 | phase: val | ⏰: 02:52:40\n"
     ]
    },
    {
     "data": {
      "application/vnd.jupyter.widget-view+json": {
       "model_id": "f1d45210f5a9461ba5da4a84c0e2a7f9",
       "version_major": 2,
       "version_minor": 0
      },
      "text/plain": [
       "HBox(children=(FloatProgress(value=0.0, max=254.0), HTML(value='')))"
      ]
     },
     "metadata": {},
     "output_type": "display_data"
    },
    {
     "name": "stdout",
     "output_type": "stream",
     "text": [
      "\n",
      "Loss: 0.6998 | IoU: 0.9858 | dice: 0.4877 | f2_score: 0.5678 | accuracy: 0.4803\n",
      "* New optimal found according to dice, saving state *\n",
      "\n",
      "Starting epoch: 39 | phase: train | ⏰: 02:53:30\n"
     ]
    },
    {
     "data": {
      "application/vnd.jupyter.widget-view+json": {
       "model_id": "d54d3a0432044daca09dd6f7fb3c6427",
       "version_major": 2,
       "version_minor": 0
      },
      "text/plain": [
       "HBox(children=(FloatProgress(value=0.0, max=127.0), HTML(value='')))"
      ]
     },
     "metadata": {},
     "output_type": "display_data"
    },
    {
     "name": "stdout",
     "output_type": "stream",
     "text": [
      "\n",
      "Loss: 0.3741 | IoU: 0.5339 | dice: 0.6966 | f2_score: 0.7377 | accuracy: 0.4902\n",
      "Starting epoch: 39 | phase: val | ⏰: 02:54:55\n"
     ]
    },
    {
     "data": {
      "application/vnd.jupyter.widget-view+json": {
       "model_id": "3fcfc67b4fe44c1bb228d1587c62c97b",
       "version_major": 2,
       "version_minor": 0
      },
      "text/plain": [
       "HBox(children=(FloatProgress(value=0.0, max=254.0), HTML(value='')))"
      ]
     },
     "metadata": {},
     "output_type": "display_data"
    },
    {
     "name": "stdout",
     "output_type": "stream",
     "text": [
      "\n",
      "Loss: 0.7117 | IoU: 0.9854 | dice: 0.4889 | f2_score: 0.5686 | accuracy: 0.4488\n",
      "* New optimal found according to dice, saving state *\n",
      "\n",
      "Starting epoch: 40 | phase: train | ⏰: 02:55:45\n"
     ]
    },
    {
     "data": {
      "application/vnd.jupyter.widget-view+json": {
       "model_id": "5b8020791f6444028f3932013b5ce646",
       "version_major": 2,
       "version_minor": 0
      },
      "text/plain": [
       "HBox(children=(FloatProgress(value=0.0, max=127.0), HTML(value='')))"
      ]
     },
     "metadata": {},
     "output_type": "display_data"
    },
    {
     "name": "stdout",
     "output_type": "stream",
     "text": [
      "\n",
      "Loss: 0.3807 | IoU: 0.5368 | dice: 0.6973 | f2_score: 0.7382 | accuracy: 0.5276\n",
      "Starting epoch: 40 | phase: val | ⏰: 02:57:03\n"
     ]
    },
    {
     "data": {
      "application/vnd.jupyter.widget-view+json": {
       "model_id": "6fb30404a135455abb7de5fd558ada99",
       "version_major": 2,
       "version_minor": 0
      },
      "text/plain": [
       "HBox(children=(FloatProgress(value=0.0, max=254.0), HTML(value='')))"
      ]
     },
     "metadata": {},
     "output_type": "display_data"
    },
    {
     "name": "stdout",
     "output_type": "stream",
     "text": [
      "\n",
      "Loss: 0.7017 | IoU: 0.9858 | dice: 0.4901 | f2_score: 0.5703 | accuracy: 0.4606\n",
      "* New optimal found according to dice, saving state *\n",
      "\n",
      "Starting epoch: 41 | phase: train | ⏰: 02:57:53\n"
     ]
    },
    {
     "data": {
      "application/vnd.jupyter.widget-view+json": {
       "model_id": "e7c316335c3945889f4c3963f4d73fb4",
       "version_major": 2,
       "version_minor": 0
      },
      "text/plain": [
       "HBox(children=(FloatProgress(value=0.0, max=127.0), HTML(value='')))"
      ]
     },
     "metadata": {},
     "output_type": "display_data"
    },
    {
     "name": "stdout",
     "output_type": "stream",
     "text": [
      "\n",
      "Loss: 0.3683 | IoU: 0.5358 | dice: 0.6954 | f2_score: 0.7357 | accuracy: 0.4964\n",
      "Starting epoch: 41 | phase: val | ⏰: 02:59:12\n"
     ]
    },
    {
     "data": {
      "application/vnd.jupyter.widget-view+json": {
       "model_id": "c507069b84fd47f29c921bf95d88e06e",
       "version_major": 2,
       "version_minor": 0
      },
      "text/plain": [
       "HBox(children=(FloatProgress(value=0.0, max=254.0), HTML(value='')))"
      ]
     },
     "metadata": {},
     "output_type": "display_data"
    },
    {
     "name": "stdout",
     "output_type": "stream",
     "text": [
      "\n",
      "Loss: 0.7000 | IoU: 0.9859 | dice: 0.4906 | f2_score: 0.5710 | accuracy: 0.4606\n",
      "* New optimal found according to dice, saving state *\n",
      "\n",
      "Starting epoch: 42 | phase: train | ⏰: 03:00:02\n"
     ]
    },
    {
     "data": {
      "application/vnd.jupyter.widget-view+json": {
       "model_id": "6cd28fadcadb4748b4fe4de0a6ee7768",
       "version_major": 2,
       "version_minor": 0
      },
      "text/plain": [
       "HBox(children=(FloatProgress(value=0.0, max=127.0), HTML(value='')))"
      ]
     },
     "metadata": {},
     "output_type": "display_data"
    },
    {
     "name": "stdout",
     "output_type": "stream",
     "text": [
      "\n",
      "Loss: 0.3690 | IoU: 0.5381 | dice: 0.6987 | f2_score: 0.7400 | accuracy: 0.4892\n",
      "Starting epoch: 42 | phase: val | ⏰: 03:01:20\n"
     ]
    },
    {
     "data": {
      "application/vnd.jupyter.widget-view+json": {
       "model_id": "c3c17b6ea3c849529e4b1c03dda03fee",
       "version_major": 2,
       "version_minor": 0
      },
      "text/plain": [
       "HBox(children=(FloatProgress(value=0.0, max=254.0), HTML(value='')))"
      ]
     },
     "metadata": {},
     "output_type": "display_data"
    },
    {
     "name": "stdout",
     "output_type": "stream",
     "text": [
      "\n",
      "Loss: 0.6988 | IoU: 0.9857 | dice: 0.4894 | f2_score: 0.5694 | accuracy: 0.4685\n",
      "Epoch    43: reducing learning rate of group 0 to 3.1250e-05.\n",
      "\n",
      "Starting epoch: 43 | phase: train | ⏰: 03:01:49\n"
     ]
    },
    {
     "data": {
      "application/vnd.jupyter.widget-view+json": {
       "model_id": "e9723c916a844ce1ab7a8ac4ece89e3d",
       "version_major": 2,
       "version_minor": 0
      },
      "text/plain": [
       "HBox(children=(FloatProgress(value=0.0, max=127.0), HTML(value='')))"
      ]
     },
     "metadata": {},
     "output_type": "display_data"
    },
    {
     "name": "stdout",
     "output_type": "stream",
     "text": [
      "\n",
      "Loss: 0.3695 | IoU: 0.5379 | dice: 0.6969 | f2_score: 0.7385 | accuracy: 0.5013\n",
      "Starting epoch: 43 | phase: val | ⏰: 03:03:07\n"
     ]
    },
    {
     "data": {
      "application/vnd.jupyter.widget-view+json": {
       "model_id": "1367f68b2abb417a9a79ec02cfa3a915",
       "version_major": 2,
       "version_minor": 0
      },
      "text/plain": [
       "HBox(children=(FloatProgress(value=0.0, max=254.0), HTML(value='')))"
      ]
     },
     "metadata": {},
     "output_type": "display_data"
    },
    {
     "name": "stdout",
     "output_type": "stream",
     "text": [
      "\n",
      "Loss: 0.6940 | IoU: 0.9858 | dice: 0.4899 | f2_score: 0.5701 | accuracy: 0.4646\n",
      "\n",
      "Starting epoch: 44 | phase: train | ⏰: 03:03:36\n"
     ]
    },
    {
     "data": {
      "application/vnd.jupyter.widget-view+json": {
       "model_id": "dddbce294eb1439b9e9173a6912e779d",
       "version_major": 2,
       "version_minor": 0
      },
      "text/plain": [
       "HBox(children=(FloatProgress(value=0.0, max=127.0), HTML(value='')))"
      ]
     },
     "metadata": {},
     "output_type": "display_data"
    },
    {
     "name": "stdout",
     "output_type": "stream",
     "text": [
      "\n",
      "Loss: 0.3651 | IoU: 0.5382 | dice: 0.6984 | f2_score: 0.7405 | accuracy: 0.4993\n",
      "Starting epoch: 44 | phase: val | ⏰: 03:04:55\n"
     ]
    },
    {
     "data": {
      "application/vnd.jupyter.widget-view+json": {
       "model_id": "5d893392978846f4b59918bd116b0a5b",
       "version_major": 2,
       "version_minor": 0
      },
      "text/plain": [
       "HBox(children=(FloatProgress(value=0.0, max=254.0), HTML(value='')))"
      ]
     },
     "metadata": {},
     "output_type": "display_data"
    },
    {
     "name": "stdout",
     "output_type": "stream",
     "text": [
      "\n",
      "Loss: 0.6973 | IoU: 0.9856 | dice: 0.4897 | f2_score: 0.5697 | accuracy: 0.4606\n",
      "\n"
     ]
    }
   ],
   "source": [
    "import sys\n",
    "sys.path.insert(0, \"segmentation_models_pytorch/\")\n",
    "from trainer import Trainer\n",
    "import segmentation_models_pytorch as smp\n",
    "def TRAIN(MODEL, ENCODER, OPTIMIZER, LOSS):\n",
    "    if(MODEL == 'Unet'):\n",
    "        model = smp.Unet(ENCODER, encoder_weights='imagenet', classes=3, activation=None)\n",
    "    elif(MODEL == 'FPN'):\n",
    "        model = smp.FPN(ENCODER, encoder_weights='imagenet', classes=3, activation=None)\n",
    "    elif(MODEL == 'Linknet'):\n",
    "        model = smp.Linknet(ENCODER, encoder_weights='imagenet', classes=3, activation=None)\n",
    "    \n",
    "    model_trainer = Trainer(model = model, optim = OPTIMIZER, loss = LOSS, lr = 1e-3, bs = 8, name = ENCODER+'_'+MODEL+'_'+LOSS+'_'+OPTIMIZER)\n",
    "#     model_trainer.load_model('efficientnet-b4_FPN_DICE_Ranger_best_dice.pth')\n",
    "    model_trainer.seed_everything(42)\n",
    "#     model_trainer.do_cutmix = False\n",
    "#     model_trainer.freeze()\n",
    "#     model_trainer.change_loader(crop_type=0, shape=256)\n",
    "#     model_trainer.fit(10)\n",
    "    model_trainer.do_cutmix = False\n",
    "    model_trainer.unfreeze()\n",
    "    model_trainer.change_loader(crop_type=0, shape=256)\n",
    "    model_trainer.fit(20)\n",
    "    model_trainer.do_cutmix = False\n",
    "    model_trainer.unfreeze()\n",
    "    model_trainer.change_loader(crop_type=1, shape=256)\n",
    "    model_trainer.fit(20)\n",
    "    model_trainer.do_cutmix = False\n",
    "    model_trainer.freeze()\n",
    "    model_trainer.change_loader(crop_type=1, shape=256)\n",
    "    model_trainer.fit(5)\n",
    "# Train models\n",
    "Model = ['FPN']\n",
    "Encoder = ['efficientnet-b4']\n",
    "Optimizer = ['Ranger']\n",
    "Loss = ['DICE', 'BCE+DICE']\n",
    "for model in Model:\n",
    "    for encoder in Encoder:\n",
    "        for optimizer in Optimizer:\n",
    "            for loss in Loss:\n",
    "                TRAIN(model, encoder, optimizer, loss)"
   ]
  },
  {
   "cell_type": "code",
   "execution_count": null,
   "metadata": {},
   "outputs": [],
   "source": []
  },
  {
   "cell_type": "code",
   "execution_count": null,
   "metadata": {},
   "outputs": [],
   "source": []
  },
  {
   "cell_type": "code",
   "execution_count": null,
   "metadata": {},
   "outputs": [],
   "source": []
  },
  {
   "cell_type": "code",
   "execution_count": null,
   "metadata": {},
   "outputs": [],
   "source": []
  },
  {
   "cell_type": "code",
   "execution_count": null,
   "metadata": {},
   "outputs": [],
   "source": []
  },
  {
   "cell_type": "code",
   "execution_count": null,
   "metadata": {},
   "outputs": [],
   "source": []
  },
  {
   "cell_type": "code",
   "execution_count": null,
   "metadata": {},
   "outputs": [],
   "source": []
  },
  {
   "cell_type": "code",
   "execution_count": null,
   "metadata": {},
   "outputs": [],
   "source": []
  },
  {
   "cell_type": "code",
   "execution_count": null,
   "metadata": {},
   "outputs": [],
   "source": []
  },
  {
   "cell_type": "code",
   "execution_count": null,
   "metadata": {},
   "outputs": [],
   "source": []
  },
  {
   "cell_type": "code",
   "execution_count": null,
   "metadata": {},
   "outputs": [],
   "source": []
  },
  {
   "cell_type": "code",
   "execution_count": null,
   "metadata": {},
   "outputs": [],
   "source": []
  },
  {
   "cell_type": "code",
   "execution_count": null,
   "metadata": {},
   "outputs": [],
   "source": []
  },
  {
   "cell_type": "code",
   "execution_count": null,
   "metadata": {},
   "outputs": [],
   "source": []
  },
  {
   "cell_type": "code",
   "execution_count": null,
   "metadata": {},
   "outputs": [],
   "source": []
  },
  {
   "cell_type": "code",
   "execution_count": null,
   "metadata": {},
   "outputs": [],
   "source": []
  },
  {
   "cell_type": "code",
   "execution_count": null,
   "metadata": {},
   "outputs": [],
   "source": []
  }
 ],
 "metadata": {
  "kernelspec": {
   "display_name": "Python 3",
   "language": "python",
   "name": "python3"
  },
  "language_info": {
   "codemirror_mode": {
    "name": "ipython",
    "version": 3
   },
   "file_extension": ".py",
   "mimetype": "text/x-python",
   "name": "python",
   "nbconvert_exporter": "python",
   "pygments_lexer": "ipython3",
   "version": "3.7.3"
  }
 },
 "nbformat": 4,
 "nbformat_minor": 2
}
